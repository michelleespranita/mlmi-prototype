{
 "cells": [
  {
   "cell_type": "code",
   "execution_count": 1,
   "metadata": {},
   "outputs": [],
   "source": [
    "%load_ext autoreload\n",
    "%autoreload 2"
   ]
  },
  {
   "cell_type": "code",
   "execution_count": 2,
   "metadata": {},
   "outputs": [],
   "source": [
    "import torch\n",
    "import torch.nn as nn\n",
    "import torch.nn.functional as F\n",
    "import numpy as np"
   ]
  },
  {
   "cell_type": "code",
   "execution_count": 3,
   "metadata": {
    "scrolled": true
   },
   "outputs": [
    {
     "name": "stderr",
     "output_type": "stream",
     "text": [
      "2022-12-19 17:09:10.233543: I tensorflow/core/platform/cpu_feature_guard.cc:193] This TensorFlow binary is optimized with oneAPI Deep Neural Network Library (oneDNN) to use the following CPU instructions in performance-critical operations:  AVX2 AVX512F AVX512_VNNI FMA\n",
      "To enable them in other operations, rebuild TensorFlow with the appropriate compiler flags.\n"
     ]
    }
   ],
   "source": [
    "from keras.models import load_model"
   ]
  },
  {
   "cell_type": "code",
   "execution_count": 4,
   "metadata": {},
   "outputs": [],
   "source": [
    "import pandas as pd"
   ]
  },
  {
   "cell_type": "markdown",
   "metadata": {},
   "source": [
    "### Get weights from pre-trained Keras model"
   ]
  },
  {
   "cell_type": "code",
   "execution_count": 4,
   "metadata": {},
   "outputs": [
    {
     "name": "stderr",
     "output_type": "stream",
     "text": [
      "2022-12-19 17:02:50.492444: I tensorflow/core/platform/cpu_feature_guard.cc:193] This TensorFlow binary is optimized with oneAPI Deep Neural Network Library (oneDNN) to use the following CPU instructions in performance-critical operations:  AVX2 AVX512F AVX512_VNNI FMA\n",
      "To enable them in other operations, rebuild TensorFlow with the appropriate compiler flags.\n"
     ]
    }
   ],
   "source": [
    "keras_DNN = load_model(\"CF_Mortality.model\")"
   ]
  },
  {
   "cell_type": "code",
   "execution_count": 5,
   "metadata": {},
   "outputs": [
    {
     "name": "stdout",
     "output_type": "stream",
     "text": [
      "Model: \"model_5\"\n",
      "_________________________________________________________________\n",
      " Layer (type)                Output Shape              Param #   \n",
      "=================================================================\n",
      " input_5 (InputLayer)        [(None, 128)]             0         \n",
      "                                                                 \n",
      " dropout_21 (Dropout)        (None, 128)               0         \n",
      "                                                                 \n",
      " dense_25 (Dense)            (None, 128)               16512     \n",
      "                                                                 \n",
      " dropout_22 (Dropout)        (None, 128)               0         \n",
      "                                                                 \n",
      " dense_26 (Dense)            (None, 64)                8256      \n",
      "                                                                 \n",
      " dropout_23 (Dropout)        (None, 64)                0         \n",
      "                                                                 \n",
      " dense_27 (Dense)            (None, 64)                4160      \n",
      "                                                                 \n",
      " dropout_24 (Dropout)        (None, 64)                0         \n",
      "                                                                 \n",
      " dense_28 (Dense)            (None, 48)                3120      \n",
      "                                                                 \n",
      " dropout_25 (Dropout)        (None, 48)                0         \n",
      "                                                                 \n",
      " dense_29 (Dense)            (None, 16)                784       \n",
      "                                                                 \n",
      " dense_30 (Dense)            (None, 2)                 34        \n",
      "                                                                 \n",
      "=================================================================\n",
      "Total params: 32,866\n",
      "Trainable params: 32,866\n",
      "Non-trainable params: 0\n",
      "_________________________________________________________________\n"
     ]
    }
   ],
   "source": [
    "keras_DNN.summary()"
   ]
  },
  {
   "cell_type": "code",
   "execution_count": 12,
   "metadata": {},
   "outputs": [
    {
     "data": {
      "text/plain": [
       "<KerasTensor: shape=(None, 16) dtype=float32 (created by layer 'dense_29')>"
      ]
     },
     "execution_count": 12,
     "metadata": {},
     "output_type": "execute_result"
    }
   ],
   "source": [
    "keras_DNN.layers[-2].output"
   ]
  },
  {
   "cell_type": "code",
   "execution_count": 6,
   "metadata": {},
   "outputs": [],
   "source": [
    "keras_DNN_weights = keras_DNN.get_weights()"
   ]
  },
  {
   "cell_type": "markdown",
   "metadata": {},
   "source": [
    "### Reconstruct Keras model in PyTorch\n"
   ]
  },
  {
   "cell_type": "code",
   "execution_count": null,
   "metadata": {},
   "outputs": [],
   "source": [
    "'''\n",
    "def DNN_Simple(shape):\n",
    "    X_in = Input(shape=(shape,))\n",
    "    H2 = Dense(128, activation='relu', kernel_regularizer=l2(5e-4))(X_in)\n",
    "    H3 = Dropout(0.5)(H2)\n",
    "    H4 = Dense(64, activation='relu', kernel_regularizer=l2(5e-4))(H3)\n",
    "    H5 = Dropout(0.2)(H4)\n",
    "    H6 = Dense(64, activation='relu', kernel_regularizer=l2(5e-4))(H5)\n",
    "    H7 = Dropout(0.2)(H6)\n",
    "    H8 = Dense(48, activation='relu', kernel_regularizer=l2(5e-4))(H7)\n",
    "    H9 = Dropout(0.2)(H8)\n",
    "    H10 = Dense(16, activation='relu', kernel_regularizer=l2(5e-4))(H9)\n",
    "    H11 = Dropout(0.5)(H10)\n",
    "    Y = Dense(3, activation='softmax')(H11)\n",
    "    model = Model(inputs=X_in, outputs=Y)\n",
    "    model.compile(optimizer=optimizers.Adam(decay=0.01),loss='categorical_crossentropy'\n",
    "                  ,metrics=['accuracy']) \n",
    "    return model\n",
    "'''"
   ]
  },
  {
   "cell_type": "code",
   "execution_count": 8,
   "metadata": {},
   "outputs": [],
   "source": [
    "class DNN(nn.Module):\n",
    "    def __init__(self, input_shape):\n",
    "        super(DNN, self).__init__()\n",
    "        self.fc1 = nn.Linear(input_shape, 128)\n",
    "        self.fc2 = nn.Linear(128, 64)\n",
    "        self.fc3 = nn.Linear(64, 64)\n",
    "        self.fc4 = nn.Linear(64, 48)\n",
    "        self.fc5 = nn.Linear(48, 16)\n",
    "#         self.output = nn.Linear(16, 2)\n",
    "        \n",
    "        self.dropout_50 = nn.Dropout(0.5)\n",
    "        self.dropout_20 = nn.Dropout(0.2)\n",
    "    \n",
    "    def forward(self, x):\n",
    "        x = F.relu(self.fc1(x))\n",
    "        x = self.dropout_50(x)\n",
    "        x = F.relu(self.fc2(x))\n",
    "        x = self.dropout_20(x)\n",
    "        x = F.relu(self.fc3(x))\n",
    "        x = self.dropout_20(x)\n",
    "        x = F.relu(self.fc4(x))\n",
    "        x = self.dropout_20(x)\n",
    "#         x = F.relu(self.fc5(x))\n",
    "        return self.fc5(x)\n",
    "#         x = self.dropout_50(x)\n",
    "#         return F.softmax(self.output(x))"
   ]
  },
  {
   "cell_type": "markdown",
   "metadata": {},
   "source": [
    "### Transfer pre-trained weights from Keras model to PyTorch"
   ]
  },
  {
   "cell_type": "code",
   "execution_count": 10,
   "metadata": {},
   "outputs": [],
   "source": [
    "pytorch_DNN = DNN(128)"
   ]
  },
  {
   "cell_type": "code",
   "execution_count": 11,
   "metadata": {},
   "outputs": [
    {
     "data": {
      "text/plain": [
       "DNN(\n",
       "  (fc1): Linear(in_features=128, out_features=128, bias=True)\n",
       "  (fc2): Linear(in_features=128, out_features=64, bias=True)\n",
       "  (fc3): Linear(in_features=64, out_features=64, bias=True)\n",
       "  (fc4): Linear(in_features=64, out_features=48, bias=True)\n",
       "  (fc5): Linear(in_features=48, out_features=16, bias=True)\n",
       "  (dropout_50): Dropout(p=0.5, inplace=False)\n",
       "  (dropout_20): Dropout(p=0.2, inplace=False)\n",
       ")"
      ]
     },
     "execution_count": 11,
     "metadata": {},
     "output_type": "execute_result"
    }
   ],
   "source": [
    "pytorch_DNN"
   ]
  },
  {
   "cell_type": "code",
   "execution_count": 12,
   "metadata": {},
   "outputs": [],
   "source": [
    "pytorch_DNN.fc1.weight.data = torch.from_numpy(np.transpose(keras_DNN_weights[0]))\n",
    "pytorch_DNN.fc1.bias.data = torch.from_numpy(keras_DNN_weights[1])\n",
    "pytorch_DNN.fc2.weight.data = torch.from_numpy(np.transpose(keras_DNN_weights[2]))\n",
    "pytorch_DNN.fc2.bias.data = torch.from_numpy(keras_DNN_weights[3])\n",
    "pytorch_DNN.fc3.weight.data = torch.from_numpy(np.transpose(keras_DNN_weights[4]))\n",
    "pytorch_DNN.fc3.bias.data = torch.from_numpy(keras_DNN_weights[5])\n",
    "pytorch_DNN.fc4.weight.data = torch.from_numpy(np.transpose(keras_DNN_weights[6]))\n",
    "pytorch_DNN.fc4.bias.data = torch.from_numpy(keras_DNN_weights[7])\n",
    "pytorch_DNN.fc5.weight.data = torch.from_numpy(np.transpose(keras_DNN_weights[8]))\n",
    "pytorch_DNN.fc5.bias.data = torch.from_numpy(keras_DNN_weights[9])\n",
    "# pytorch_DNN.output.weight.data = torch.from_numpy(np.transpose(keras_DNN_weights[10]))\n",
    "# pytorch_DNN.output.bias.data = torch.from_numpy(keras_DNN_weights[11])"
   ]
  },
  {
   "cell_type": "markdown",
   "metadata": {},
   "source": [
    "### Load data"
   ]
  },
  {
   "cell_type": "code",
   "execution_count": 7,
   "metadata": {},
   "outputs": [],
   "source": [
    "data_df = pd.read_csv(\"matt_metadata_norm.csv\", sep='\\t')"
   ]
  },
  {
   "cell_type": "code",
   "execution_count": 8,
   "metadata": {},
   "outputs": [
    {
     "data": {
      "text/html": [
       "<div>\n",
       "<style scoped>\n",
       "    .dataframe tbody tr th:only-of-type {\n",
       "        vertical-align: middle;\n",
       "    }\n",
       "\n",
       "    .dataframe tbody tr th {\n",
       "        vertical-align: top;\n",
       "    }\n",
       "\n",
       "    .dataframe thead th {\n",
       "        text-align: right;\n",
       "    }\n",
       "</style>\n",
       "<table border=\"1\" class=\"dataframe\">\n",
       "  <thead>\n",
       "    <tr style=\"text-align: right;\">\n",
       "      <th></th>\n",
       "      <th>Patient</th>\n",
       "      <th>Age</th>\n",
       "      <th>Gender</th>\n",
       "      <th>Body temperature</th>\n",
       "      <th>Underlying diseases</th>\n",
       "      <th>MCHC</th>\n",
       "      <th>MCH</th>\n",
       "      <th>MCV</th>\n",
       "      <th>HCT</th>\n",
       "      <th>HGB</th>\n",
       "      <th>...</th>\n",
       "      <th>FDG</th>\n",
       "      <th>LPS</th>\n",
       "      <th>U</th>\n",
       "      <th>UALB</th>\n",
       "      <th>BCF8</th>\n",
       "      <th>ASO</th>\n",
       "      <th>PS</th>\n",
       "      <th>RF</th>\n",
       "      <th>PC</th>\n",
       "      <th>LAC</th>\n",
       "    </tr>\n",
       "  </thead>\n",
       "  <tbody>\n",
       "    <tr>\n",
       "      <th>0</th>\n",
       "      <td>Patient 1</td>\n",
       "      <td>81.0</td>\n",
       "      <td>0</td>\n",
       "      <td>0.983871</td>\n",
       "      <td>1</td>\n",
       "      <td>0.736842</td>\n",
       "      <td>0.600000</td>\n",
       "      <td>0.483333</td>\n",
       "      <td>-0.42</td>\n",
       "      <td>-0.155556</td>\n",
       "      <td>...</td>\n",
       "      <td>0.5</td>\n",
       "      <td>0.5</td>\n",
       "      <td>0.5</td>\n",
       "      <td>0.5</td>\n",
       "      <td>-0.86875</td>\n",
       "      <td>0.5</td>\n",
       "      <td>-0.991667</td>\n",
       "      <td>0.5</td>\n",
       "      <td>-0.992857</td>\n",
       "      <td>0.5</td>\n",
       "    </tr>\n",
       "    <tr>\n",
       "      <th>1</th>\n",
       "      <td>Patient 2</td>\n",
       "      <td>50.0</td>\n",
       "      <td>0</td>\n",
       "      <td>1.040323</td>\n",
       "      <td>1</td>\n",
       "      <td>0.868421</td>\n",
       "      <td>0.642857</td>\n",
       "      <td>0.455556</td>\n",
       "      <td>0.15</td>\n",
       "      <td>0.333333</td>\n",
       "      <td>...</td>\n",
       "      <td>0.5</td>\n",
       "      <td>0.5</td>\n",
       "      <td>0.5</td>\n",
       "      <td>0.5</td>\n",
       "      <td>-0.86875</td>\n",
       "      <td>0.5</td>\n",
       "      <td>-0.991667</td>\n",
       "      <td>0.5</td>\n",
       "      <td>-0.992857</td>\n",
       "      <td>0.5</td>\n",
       "    </tr>\n",
       "    <tr>\n",
       "      <th>2</th>\n",
       "      <td>Patient 3</td>\n",
       "      <td>65.0</td>\n",
       "      <td>1</td>\n",
       "      <td>1.034946</td>\n",
       "      <td>1</td>\n",
       "      <td>0.368421</td>\n",
       "      <td>0.585714</td>\n",
       "      <td>0.677778</td>\n",
       "      <td>-0.96</td>\n",
       "      <td>-0.644444</td>\n",
       "      <td>...</td>\n",
       "      <td>0.5</td>\n",
       "      <td>0.5</td>\n",
       "      <td>0.5</td>\n",
       "      <td>0.5</td>\n",
       "      <td>-0.86875</td>\n",
       "      <td>0.5</td>\n",
       "      <td>-0.991667</td>\n",
       "      <td>0.5</td>\n",
       "      <td>-0.992857</td>\n",
       "      <td>0.5</td>\n",
       "    </tr>\n",
       "    <tr>\n",
       "      <th>3</th>\n",
       "      <td>Patient 4</td>\n",
       "      <td>73.0</td>\n",
       "      <td>0</td>\n",
       "      <td>1.034946</td>\n",
       "      <td>1</td>\n",
       "      <td>0.552632</td>\n",
       "      <td>0.528571</td>\n",
       "      <td>0.516667</td>\n",
       "      <td>0.09</td>\n",
       "      <td>0.177778</td>\n",
       "      <td>...</td>\n",
       "      <td>0.5</td>\n",
       "      <td>0.5</td>\n",
       "      <td>0.5</td>\n",
       "      <td>0.5</td>\n",
       "      <td>-0.86875</td>\n",
       "      <td>0.5</td>\n",
       "      <td>-0.991667</td>\n",
       "      <td>0.5</td>\n",
       "      <td>-0.992857</td>\n",
       "      <td>0.5</td>\n",
       "    </tr>\n",
       "    <tr>\n",
       "      <th>4</th>\n",
       "      <td>Patient 5</td>\n",
       "      <td>64.0</td>\n",
       "      <td>1</td>\n",
       "      <td>1.021505</td>\n",
       "      <td>1</td>\n",
       "      <td>0.342105</td>\n",
       "      <td>0.485714</td>\n",
       "      <td>0.577778</td>\n",
       "      <td>0.15</td>\n",
       "      <td>0.133333</td>\n",
       "      <td>...</td>\n",
       "      <td>0.5</td>\n",
       "      <td>0.5</td>\n",
       "      <td>0.5</td>\n",
       "      <td>0.5</td>\n",
       "      <td>-0.86875</td>\n",
       "      <td>0.5</td>\n",
       "      <td>-0.991667</td>\n",
       "      <td>0.5</td>\n",
       "      <td>-0.992857</td>\n",
       "      <td>0.5</td>\n",
       "    </tr>\n",
       "  </tbody>\n",
       "</table>\n",
       "<p>5 rows × 128 columns</p>\n",
       "</div>"
      ],
      "text/plain": [
       "     Patient   Age  Gender  Body temperature  Underlying diseases      MCHC  \\\n",
       "0  Patient 1  81.0       0          0.983871                    1  0.736842   \n",
       "1  Patient 2  50.0       0          1.040323                    1  0.868421   \n",
       "2  Patient 3  65.0       1          1.034946                    1  0.368421   \n",
       "3  Patient 4  73.0       0          1.034946                    1  0.552632   \n",
       "4  Patient 5  64.0       1          1.021505                    1  0.342105   \n",
       "\n",
       "        MCH       MCV   HCT       HGB  ...  FDG  LPS    U  UALB     BCF8  ASO  \\\n",
       "0  0.600000  0.483333 -0.42 -0.155556  ...  0.5  0.5  0.5   0.5 -0.86875  0.5   \n",
       "1  0.642857  0.455556  0.15  0.333333  ...  0.5  0.5  0.5   0.5 -0.86875  0.5   \n",
       "2  0.585714  0.677778 -0.96 -0.644444  ...  0.5  0.5  0.5   0.5 -0.86875  0.5   \n",
       "3  0.528571  0.516667  0.09  0.177778  ...  0.5  0.5  0.5   0.5 -0.86875  0.5   \n",
       "4  0.485714  0.577778  0.15  0.133333  ...  0.5  0.5  0.5   0.5 -0.86875  0.5   \n",
       "\n",
       "         PS   RF        PC  LAC  \n",
       "0 -0.991667  0.5 -0.992857  0.5  \n",
       "1 -0.991667  0.5 -0.992857  0.5  \n",
       "2 -0.991667  0.5 -0.992857  0.5  \n",
       "3 -0.991667  0.5 -0.992857  0.5  \n",
       "4 -0.991667  0.5 -0.992857  0.5  \n",
       "\n",
       "[5 rows x 128 columns]"
      ]
     },
     "execution_count": 8,
     "metadata": {},
     "output_type": "execute_result"
    }
   ],
   "source": [
    "data_df.head()"
   ]
  },
  {
   "cell_type": "code",
   "execution_count": 9,
   "metadata": {},
   "outputs": [],
   "source": [
    "data_df.drop([\"Patient\"], axis=1, inplace=True)"
   ]
  },
  {
   "cell_type": "code",
   "execution_count": 10,
   "metadata": {},
   "outputs": [],
   "source": [
    "# Our data has 127 features but the pre-trained model accepts 128 features\n",
    "# We can add 1 column filled with 0.5s to make the data also have 128 features\n",
    "# However, we don't know whether we should append this columns at the end of the data or in the beginning\n",
    "# because we don't know how the pre-trained model accepted the original input"
   ]
  },
  {
   "cell_type": "code",
   "execution_count": 11,
   "metadata": {},
   "outputs": [],
   "source": [
    "data_df_beg = data_df.copy(deep=True)\n",
    "data_df_beg.insert(loc=0, column=\"addition\", value=[0.5 for i in range(len(data_df))])\n",
    "data_df_end = data_df.copy(deep=True)\n",
    "data_df_end[\"addition\"] = [0.5 for i in range(len(data_df))]"
   ]
  },
  {
   "cell_type": "code",
   "execution_count": 12,
   "metadata": {},
   "outputs": [
    {
     "data": {
      "text/html": [
       "<div>\n",
       "<style scoped>\n",
       "    .dataframe tbody tr th:only-of-type {\n",
       "        vertical-align: middle;\n",
       "    }\n",
       "\n",
       "    .dataframe tbody tr th {\n",
       "        vertical-align: top;\n",
       "    }\n",
       "\n",
       "    .dataframe thead th {\n",
       "        text-align: right;\n",
       "    }\n",
       "</style>\n",
       "<table border=\"1\" class=\"dataframe\">\n",
       "  <thead>\n",
       "    <tr style=\"text-align: right;\">\n",
       "      <th></th>\n",
       "      <th>addition</th>\n",
       "      <th>Age</th>\n",
       "      <th>Gender</th>\n",
       "      <th>Body temperature</th>\n",
       "      <th>Underlying diseases</th>\n",
       "      <th>MCHC</th>\n",
       "      <th>MCH</th>\n",
       "      <th>MCV</th>\n",
       "      <th>HCT</th>\n",
       "      <th>HGB</th>\n",
       "      <th>...</th>\n",
       "      <th>FDG</th>\n",
       "      <th>LPS</th>\n",
       "      <th>U</th>\n",
       "      <th>UALB</th>\n",
       "      <th>BCF8</th>\n",
       "      <th>ASO</th>\n",
       "      <th>PS</th>\n",
       "      <th>RF</th>\n",
       "      <th>PC</th>\n",
       "      <th>LAC</th>\n",
       "    </tr>\n",
       "  </thead>\n",
       "  <tbody>\n",
       "    <tr>\n",
       "      <th>0</th>\n",
       "      <td>0.5</td>\n",
       "      <td>81.0</td>\n",
       "      <td>0</td>\n",
       "      <td>0.983871</td>\n",
       "      <td>1</td>\n",
       "      <td>0.736842</td>\n",
       "      <td>0.600000</td>\n",
       "      <td>0.483333</td>\n",
       "      <td>-0.42</td>\n",
       "      <td>-0.155556</td>\n",
       "      <td>...</td>\n",
       "      <td>0.5</td>\n",
       "      <td>0.5</td>\n",
       "      <td>0.5</td>\n",
       "      <td>0.5</td>\n",
       "      <td>-0.86875</td>\n",
       "      <td>0.5</td>\n",
       "      <td>-0.991667</td>\n",
       "      <td>0.5</td>\n",
       "      <td>-0.992857</td>\n",
       "      <td>0.5</td>\n",
       "    </tr>\n",
       "    <tr>\n",
       "      <th>1</th>\n",
       "      <td>0.5</td>\n",
       "      <td>50.0</td>\n",
       "      <td>0</td>\n",
       "      <td>1.040323</td>\n",
       "      <td>1</td>\n",
       "      <td>0.868421</td>\n",
       "      <td>0.642857</td>\n",
       "      <td>0.455556</td>\n",
       "      <td>0.15</td>\n",
       "      <td>0.333333</td>\n",
       "      <td>...</td>\n",
       "      <td>0.5</td>\n",
       "      <td>0.5</td>\n",
       "      <td>0.5</td>\n",
       "      <td>0.5</td>\n",
       "      <td>-0.86875</td>\n",
       "      <td>0.5</td>\n",
       "      <td>-0.991667</td>\n",
       "      <td>0.5</td>\n",
       "      <td>-0.992857</td>\n",
       "      <td>0.5</td>\n",
       "    </tr>\n",
       "    <tr>\n",
       "      <th>2</th>\n",
       "      <td>0.5</td>\n",
       "      <td>65.0</td>\n",
       "      <td>1</td>\n",
       "      <td>1.034946</td>\n",
       "      <td>1</td>\n",
       "      <td>0.368421</td>\n",
       "      <td>0.585714</td>\n",
       "      <td>0.677778</td>\n",
       "      <td>-0.96</td>\n",
       "      <td>-0.644444</td>\n",
       "      <td>...</td>\n",
       "      <td>0.5</td>\n",
       "      <td>0.5</td>\n",
       "      <td>0.5</td>\n",
       "      <td>0.5</td>\n",
       "      <td>-0.86875</td>\n",
       "      <td>0.5</td>\n",
       "      <td>-0.991667</td>\n",
       "      <td>0.5</td>\n",
       "      <td>-0.992857</td>\n",
       "      <td>0.5</td>\n",
       "    </tr>\n",
       "    <tr>\n",
       "      <th>3</th>\n",
       "      <td>0.5</td>\n",
       "      <td>73.0</td>\n",
       "      <td>0</td>\n",
       "      <td>1.034946</td>\n",
       "      <td>1</td>\n",
       "      <td>0.552632</td>\n",
       "      <td>0.528571</td>\n",
       "      <td>0.516667</td>\n",
       "      <td>0.09</td>\n",
       "      <td>0.177778</td>\n",
       "      <td>...</td>\n",
       "      <td>0.5</td>\n",
       "      <td>0.5</td>\n",
       "      <td>0.5</td>\n",
       "      <td>0.5</td>\n",
       "      <td>-0.86875</td>\n",
       "      <td>0.5</td>\n",
       "      <td>-0.991667</td>\n",
       "      <td>0.5</td>\n",
       "      <td>-0.992857</td>\n",
       "      <td>0.5</td>\n",
       "    </tr>\n",
       "    <tr>\n",
       "      <th>4</th>\n",
       "      <td>0.5</td>\n",
       "      <td>64.0</td>\n",
       "      <td>1</td>\n",
       "      <td>1.021505</td>\n",
       "      <td>1</td>\n",
       "      <td>0.342105</td>\n",
       "      <td>0.485714</td>\n",
       "      <td>0.577778</td>\n",
       "      <td>0.15</td>\n",
       "      <td>0.133333</td>\n",
       "      <td>...</td>\n",
       "      <td>0.5</td>\n",
       "      <td>0.5</td>\n",
       "      <td>0.5</td>\n",
       "      <td>0.5</td>\n",
       "      <td>-0.86875</td>\n",
       "      <td>0.5</td>\n",
       "      <td>-0.991667</td>\n",
       "      <td>0.5</td>\n",
       "      <td>-0.992857</td>\n",
       "      <td>0.5</td>\n",
       "    </tr>\n",
       "  </tbody>\n",
       "</table>\n",
       "<p>5 rows × 128 columns</p>\n",
       "</div>"
      ],
      "text/plain": [
       "   addition   Age  Gender  Body temperature  Underlying diseases      MCHC  \\\n",
       "0       0.5  81.0       0          0.983871                    1  0.736842   \n",
       "1       0.5  50.0       0          1.040323                    1  0.868421   \n",
       "2       0.5  65.0       1          1.034946                    1  0.368421   \n",
       "3       0.5  73.0       0          1.034946                    1  0.552632   \n",
       "4       0.5  64.0       1          1.021505                    1  0.342105   \n",
       "\n",
       "        MCH       MCV   HCT       HGB  ...  FDG  LPS    U  UALB     BCF8  ASO  \\\n",
       "0  0.600000  0.483333 -0.42 -0.155556  ...  0.5  0.5  0.5   0.5 -0.86875  0.5   \n",
       "1  0.642857  0.455556  0.15  0.333333  ...  0.5  0.5  0.5   0.5 -0.86875  0.5   \n",
       "2  0.585714  0.677778 -0.96 -0.644444  ...  0.5  0.5  0.5   0.5 -0.86875  0.5   \n",
       "3  0.528571  0.516667  0.09  0.177778  ...  0.5  0.5  0.5   0.5 -0.86875  0.5   \n",
       "4  0.485714  0.577778  0.15  0.133333  ...  0.5  0.5  0.5   0.5 -0.86875  0.5   \n",
       "\n",
       "         PS   RF        PC  LAC  \n",
       "0 -0.991667  0.5 -0.992857  0.5  \n",
       "1 -0.991667  0.5 -0.992857  0.5  \n",
       "2 -0.991667  0.5 -0.992857  0.5  \n",
       "3 -0.991667  0.5 -0.992857  0.5  \n",
       "4 -0.991667  0.5 -0.992857  0.5  \n",
       "\n",
       "[5 rows x 128 columns]"
      ]
     },
     "execution_count": 12,
     "metadata": {},
     "output_type": "execute_result"
    }
   ],
   "source": [
    "data_df_beg.head()"
   ]
  },
  {
   "cell_type": "code",
   "execution_count": 13,
   "metadata": {},
   "outputs": [
    {
     "data": {
      "text/html": [
       "<div>\n",
       "<style scoped>\n",
       "    .dataframe tbody tr th:only-of-type {\n",
       "        vertical-align: middle;\n",
       "    }\n",
       "\n",
       "    .dataframe tbody tr th {\n",
       "        vertical-align: top;\n",
       "    }\n",
       "\n",
       "    .dataframe thead th {\n",
       "        text-align: right;\n",
       "    }\n",
       "</style>\n",
       "<table border=\"1\" class=\"dataframe\">\n",
       "  <thead>\n",
       "    <tr style=\"text-align: right;\">\n",
       "      <th></th>\n",
       "      <th>Age</th>\n",
       "      <th>Gender</th>\n",
       "      <th>Body temperature</th>\n",
       "      <th>Underlying diseases</th>\n",
       "      <th>MCHC</th>\n",
       "      <th>MCH</th>\n",
       "      <th>MCV</th>\n",
       "      <th>HCT</th>\n",
       "      <th>HGB</th>\n",
       "      <th>RBC</th>\n",
       "      <th>...</th>\n",
       "      <th>LPS</th>\n",
       "      <th>U</th>\n",
       "      <th>UALB</th>\n",
       "      <th>BCF8</th>\n",
       "      <th>ASO</th>\n",
       "      <th>PS</th>\n",
       "      <th>RF</th>\n",
       "      <th>PC</th>\n",
       "      <th>LAC</th>\n",
       "      <th>addition</th>\n",
       "    </tr>\n",
       "  </thead>\n",
       "  <tbody>\n",
       "    <tr>\n",
       "      <th>0</th>\n",
       "      <td>81.0</td>\n",
       "      <td>0</td>\n",
       "      <td>0.983871</td>\n",
       "      <td>1</td>\n",
       "      <td>0.736842</td>\n",
       "      <td>0.600000</td>\n",
       "      <td>0.483333</td>\n",
       "      <td>-0.42</td>\n",
       "      <td>-0.155556</td>\n",
       "      <td>-0.240000</td>\n",
       "      <td>...</td>\n",
       "      <td>0.5</td>\n",
       "      <td>0.5</td>\n",
       "      <td>0.5</td>\n",
       "      <td>-0.86875</td>\n",
       "      <td>0.5</td>\n",
       "      <td>-0.991667</td>\n",
       "      <td>0.5</td>\n",
       "      <td>-0.992857</td>\n",
       "      <td>0.5</td>\n",
       "      <td>0.5</td>\n",
       "    </tr>\n",
       "    <tr>\n",
       "      <th>1</th>\n",
       "      <td>50.0</td>\n",
       "      <td>0</td>\n",
       "      <td>1.040323</td>\n",
       "      <td>1</td>\n",
       "      <td>0.868421</td>\n",
       "      <td>0.642857</td>\n",
       "      <td>0.455556</td>\n",
       "      <td>0.15</td>\n",
       "      <td>0.333333</td>\n",
       "      <td>0.200000</td>\n",
       "      <td>...</td>\n",
       "      <td>0.5</td>\n",
       "      <td>0.5</td>\n",
       "      <td>0.5</td>\n",
       "      <td>-0.86875</td>\n",
       "      <td>0.5</td>\n",
       "      <td>-0.991667</td>\n",
       "      <td>0.5</td>\n",
       "      <td>-0.992857</td>\n",
       "      <td>0.5</td>\n",
       "      <td>0.5</td>\n",
       "    </tr>\n",
       "    <tr>\n",
       "      <th>2</th>\n",
       "      <td>65.0</td>\n",
       "      <td>1</td>\n",
       "      <td>1.034946</td>\n",
       "      <td>1</td>\n",
       "      <td>0.368421</td>\n",
       "      <td>0.585714</td>\n",
       "      <td>0.677778</td>\n",
       "      <td>-0.96</td>\n",
       "      <td>-0.644444</td>\n",
       "      <td>-0.713333</td>\n",
       "      <td>...</td>\n",
       "      <td>0.5</td>\n",
       "      <td>0.5</td>\n",
       "      <td>0.5</td>\n",
       "      <td>-0.86875</td>\n",
       "      <td>0.5</td>\n",
       "      <td>-0.991667</td>\n",
       "      <td>0.5</td>\n",
       "      <td>-0.992857</td>\n",
       "      <td>0.5</td>\n",
       "      <td>0.5</td>\n",
       "    </tr>\n",
       "    <tr>\n",
       "      <th>3</th>\n",
       "      <td>73.0</td>\n",
       "      <td>0</td>\n",
       "      <td>1.034946</td>\n",
       "      <td>1</td>\n",
       "      <td>0.552632</td>\n",
       "      <td>0.528571</td>\n",
       "      <td>0.516667</td>\n",
       "      <td>0.09</td>\n",
       "      <td>0.177778</td>\n",
       "      <td>0.120000</td>\n",
       "      <td>...</td>\n",
       "      <td>0.5</td>\n",
       "      <td>0.5</td>\n",
       "      <td>0.5</td>\n",
       "      <td>-0.86875</td>\n",
       "      <td>0.5</td>\n",
       "      <td>-0.991667</td>\n",
       "      <td>0.5</td>\n",
       "      <td>-0.992857</td>\n",
       "      <td>0.5</td>\n",
       "      <td>0.5</td>\n",
       "    </tr>\n",
       "    <tr>\n",
       "      <th>4</th>\n",
       "      <td>64.0</td>\n",
       "      <td>1</td>\n",
       "      <td>1.021505</td>\n",
       "      <td>1</td>\n",
       "      <td>0.342105</td>\n",
       "      <td>0.485714</td>\n",
       "      <td>0.577778</td>\n",
       "      <td>0.15</td>\n",
       "      <td>0.133333</td>\n",
       "      <td>0.126667</td>\n",
       "      <td>...</td>\n",
       "      <td>0.5</td>\n",
       "      <td>0.5</td>\n",
       "      <td>0.5</td>\n",
       "      <td>-0.86875</td>\n",
       "      <td>0.5</td>\n",
       "      <td>-0.991667</td>\n",
       "      <td>0.5</td>\n",
       "      <td>-0.992857</td>\n",
       "      <td>0.5</td>\n",
       "      <td>0.5</td>\n",
       "    </tr>\n",
       "  </tbody>\n",
       "</table>\n",
       "<p>5 rows × 128 columns</p>\n",
       "</div>"
      ],
      "text/plain": [
       "    Age  Gender  Body temperature  Underlying diseases      MCHC       MCH  \\\n",
       "0  81.0       0          0.983871                    1  0.736842  0.600000   \n",
       "1  50.0       0          1.040323                    1  0.868421  0.642857   \n",
       "2  65.0       1          1.034946                    1  0.368421  0.585714   \n",
       "3  73.0       0          1.034946                    1  0.552632  0.528571   \n",
       "4  64.0       1          1.021505                    1  0.342105  0.485714   \n",
       "\n",
       "        MCV   HCT       HGB       RBC  ...  LPS    U  UALB     BCF8  ASO  \\\n",
       "0  0.483333 -0.42 -0.155556 -0.240000  ...  0.5  0.5   0.5 -0.86875  0.5   \n",
       "1  0.455556  0.15  0.333333  0.200000  ...  0.5  0.5   0.5 -0.86875  0.5   \n",
       "2  0.677778 -0.96 -0.644444 -0.713333  ...  0.5  0.5   0.5 -0.86875  0.5   \n",
       "3  0.516667  0.09  0.177778  0.120000  ...  0.5  0.5   0.5 -0.86875  0.5   \n",
       "4  0.577778  0.15  0.133333  0.126667  ...  0.5  0.5   0.5 -0.86875  0.5   \n",
       "\n",
       "         PS   RF        PC  LAC  addition  \n",
       "0 -0.991667  0.5 -0.992857  0.5       0.5  \n",
       "1 -0.991667  0.5 -0.992857  0.5       0.5  \n",
       "2 -0.991667  0.5 -0.992857  0.5       0.5  \n",
       "3 -0.991667  0.5 -0.992857  0.5       0.5  \n",
       "4 -0.991667  0.5 -0.992857  0.5       0.5  \n",
       "\n",
       "[5 rows x 128 columns]"
      ]
     },
     "execution_count": 13,
     "metadata": {},
     "output_type": "execute_result"
    }
   ],
   "source": [
    "data_df_end.head()"
   ]
  },
  {
   "cell_type": "code",
   "execution_count": 20,
   "metadata": {},
   "outputs": [],
   "source": [
    "X_beg = torch.Tensor(data_df_beg.values)\n",
    "X_end = torch.Tensor(data_df_end.values)"
   ]
  },
  {
   "cell_type": "code",
   "execution_count": 21,
   "metadata": {},
   "outputs": [
    {
     "name": "stdout",
     "output_type": "stream",
     "text": [
      "X_beg shape: torch.Size([1521, 128])\n",
      "X_end shape: torch.Size([1521, 128])\n"
     ]
    }
   ],
   "source": [
    "print(\"X_beg shape:\", X_beg.shape)\n",
    "print(\"X_end shape:\", X_end.shape)"
   ]
  },
  {
   "cell_type": "code",
   "execution_count": 22,
   "metadata": {},
   "outputs": [
    {
     "data": {
      "text/plain": [
       "tensor([[ 0.5000, 81.0000,  0.0000,  ...,  0.5000, -0.9929,  0.5000],\n",
       "        [ 0.5000, 50.0000,  0.0000,  ...,  0.5000, -0.9929,  0.5000],\n",
       "        [ 0.5000, 65.0000,  1.0000,  ...,  0.5000, -0.9929,  0.5000],\n",
       "        ...,\n",
       "        [ 0.5000, 71.0000,  1.0000,  ...,  0.5000, -0.9929,  0.5000],\n",
       "        [ 0.5000, 66.0000,  1.0000,  ...,  0.5000, -0.9929,  0.5000],\n",
       "        [ 0.5000, 64.0000,  1.0000,  ...,  0.5000, -0.9929,  0.5000]])"
      ]
     },
     "execution_count": 22,
     "metadata": {},
     "output_type": "execute_result"
    }
   ],
   "source": [
    "X_beg"
   ]
  },
  {
   "cell_type": "code",
   "execution_count": 23,
   "metadata": {},
   "outputs": [],
   "source": [
    "X_beg_numpy = X_beg.numpy()\n",
    "X_end_numpy = X_end.numpy()"
   ]
  },
  {
   "cell_type": "code",
   "execution_count": 24,
   "metadata": {},
   "outputs": [
    {
     "data": {
      "text/plain": [
       "array([[ 0.5       , 81.        ,  0.        , ...,  0.5       ,\n",
       "        -0.99285716,  0.5       ],\n",
       "       [ 0.5       , 50.        ,  0.        , ...,  0.5       ,\n",
       "        -0.99285716,  0.5       ],\n",
       "       [ 0.5       , 65.        ,  1.        , ...,  0.5       ,\n",
       "        -0.99285716,  0.5       ],\n",
       "       ...,\n",
       "       [ 0.5       , 71.        ,  1.        , ...,  0.5       ,\n",
       "        -0.99285716,  0.5       ],\n",
       "       [ 0.5       , 66.        ,  1.        , ...,  0.5       ,\n",
       "        -0.99285716,  0.5       ],\n",
       "       [ 0.5       , 64.        ,  1.        , ...,  0.5       ,\n",
       "        -0.99285716,  0.5       ]], dtype=float32)"
      ]
     },
     "execution_count": 24,
     "metadata": {},
     "output_type": "execute_result"
    }
   ],
   "source": [
    "X_beg_numpy"
   ]
  },
  {
   "cell_type": "markdown",
   "metadata": {},
   "source": [
    "### Feedforward"
   ]
  },
  {
   "cell_type": "code",
   "execution_count": 38,
   "metadata": {},
   "outputs": [],
   "source": [
    "out_beg = pytorch_DNN(X_beg)"
   ]
  },
  {
   "cell_type": "code",
   "execution_count": 40,
   "metadata": {},
   "outputs": [
    {
     "data": {
      "text/plain": [
       "torch.Size([1521, 16])"
      ]
     },
     "execution_count": 40,
     "metadata": {},
     "output_type": "execute_result"
    }
   ],
   "source": [
    "out_beg.shape"
   ]
  },
  {
   "cell_type": "code",
   "execution_count": 41,
   "metadata": {},
   "outputs": [],
   "source": [
    "out_end = pytorch_DNN(X_end)"
   ]
  },
  {
   "cell_type": "code",
   "execution_count": 42,
   "metadata": {},
   "outputs": [
    {
     "data": {
      "text/plain": [
       "torch.Size([1521, 16])"
      ]
     },
     "execution_count": 42,
     "metadata": {},
     "output_type": "execute_result"
    }
   ],
   "source": [
    "out_end.shape"
   ]
  },
  {
   "cell_type": "markdown",
   "metadata": {},
   "source": [
    "### Extract tabular embeddings for morbidity"
   ]
  },
  {
   "cell_type": "code",
   "execution_count": 63,
   "metadata": {},
   "outputs": [],
   "source": [
    "data_df = pd.read_csv(\"matt_metadata_norm_morbidity_filtered.csv\", sep='\\t')"
   ]
  },
  {
   "cell_type": "code",
   "execution_count": 64,
   "metadata": {},
   "outputs": [
    {
     "data": {
      "text/html": [
       "<div>\n",
       "<style scoped>\n",
       "    .dataframe tbody tr th:only-of-type {\n",
       "        vertical-align: middle;\n",
       "    }\n",
       "\n",
       "    .dataframe tbody tr th {\n",
       "        vertical-align: top;\n",
       "    }\n",
       "\n",
       "    .dataframe thead th {\n",
       "        text-align: right;\n",
       "    }\n",
       "</style>\n",
       "<table border=\"1\" class=\"dataframe\">\n",
       "  <thead>\n",
       "    <tr style=\"text-align: right;\">\n",
       "      <th></th>\n",
       "      <th>Patient</th>\n",
       "      <th>Age</th>\n",
       "      <th>Gender</th>\n",
       "      <th>Body temperature</th>\n",
       "      <th>Underlying diseases</th>\n",
       "      <th>MCHC</th>\n",
       "      <th>MCH</th>\n",
       "      <th>MCV</th>\n",
       "      <th>HCT</th>\n",
       "      <th>HGB</th>\n",
       "      <th>...</th>\n",
       "      <th>LPS</th>\n",
       "      <th>U</th>\n",
       "      <th>UALB</th>\n",
       "      <th>BCF8</th>\n",
       "      <th>ASO</th>\n",
       "      <th>PS</th>\n",
       "      <th>RF</th>\n",
       "      <th>PC</th>\n",
       "      <th>LAC</th>\n",
       "      <th>Morbidity</th>\n",
       "    </tr>\n",
       "  </thead>\n",
       "  <tbody>\n",
       "    <tr>\n",
       "      <th>0</th>\n",
       "      <td>Patient 1</td>\n",
       "      <td>81.0</td>\n",
       "      <td>0</td>\n",
       "      <td>0.983871</td>\n",
       "      <td>1</td>\n",
       "      <td>0.736842</td>\n",
       "      <td>0.600000</td>\n",
       "      <td>0.483333</td>\n",
       "      <td>-0.42</td>\n",
       "      <td>-0.155556</td>\n",
       "      <td>...</td>\n",
       "      <td>0.5</td>\n",
       "      <td>0.5</td>\n",
       "      <td>0.5</td>\n",
       "      <td>-0.86875</td>\n",
       "      <td>0.5</td>\n",
       "      <td>-0.991667</td>\n",
       "      <td>0.5</td>\n",
       "      <td>-0.992857</td>\n",
       "      <td>0.5</td>\n",
       "      <td>1</td>\n",
       "    </tr>\n",
       "    <tr>\n",
       "      <th>1</th>\n",
       "      <td>Patient 2</td>\n",
       "      <td>50.0</td>\n",
       "      <td>0</td>\n",
       "      <td>1.040323</td>\n",
       "      <td>1</td>\n",
       "      <td>0.868421</td>\n",
       "      <td>0.642857</td>\n",
       "      <td>0.455556</td>\n",
       "      <td>0.15</td>\n",
       "      <td>0.333333</td>\n",
       "      <td>...</td>\n",
       "      <td>0.5</td>\n",
       "      <td>0.5</td>\n",
       "      <td>0.5</td>\n",
       "      <td>-0.86875</td>\n",
       "      <td>0.5</td>\n",
       "      <td>-0.991667</td>\n",
       "      <td>0.5</td>\n",
       "      <td>-0.992857</td>\n",
       "      <td>0.5</td>\n",
       "      <td>1</td>\n",
       "    </tr>\n",
       "    <tr>\n",
       "      <th>2</th>\n",
       "      <td>Patient 3</td>\n",
       "      <td>65.0</td>\n",
       "      <td>1</td>\n",
       "      <td>1.034946</td>\n",
       "      <td>1</td>\n",
       "      <td>0.368421</td>\n",
       "      <td>0.585714</td>\n",
       "      <td>0.677778</td>\n",
       "      <td>-0.96</td>\n",
       "      <td>-0.644444</td>\n",
       "      <td>...</td>\n",
       "      <td>0.5</td>\n",
       "      <td>0.5</td>\n",
       "      <td>0.5</td>\n",
       "      <td>-0.86875</td>\n",
       "      <td>0.5</td>\n",
       "      <td>-0.991667</td>\n",
       "      <td>0.5</td>\n",
       "      <td>-0.992857</td>\n",
       "      <td>0.5</td>\n",
       "      <td>1</td>\n",
       "    </tr>\n",
       "    <tr>\n",
       "      <th>3</th>\n",
       "      <td>Patient 4</td>\n",
       "      <td>73.0</td>\n",
       "      <td>0</td>\n",
       "      <td>1.034946</td>\n",
       "      <td>1</td>\n",
       "      <td>0.552632</td>\n",
       "      <td>0.528571</td>\n",
       "      <td>0.516667</td>\n",
       "      <td>0.09</td>\n",
       "      <td>0.177778</td>\n",
       "      <td>...</td>\n",
       "      <td>0.5</td>\n",
       "      <td>0.5</td>\n",
       "      <td>0.5</td>\n",
       "      <td>-0.86875</td>\n",
       "      <td>0.5</td>\n",
       "      <td>-0.991667</td>\n",
       "      <td>0.5</td>\n",
       "      <td>-0.992857</td>\n",
       "      <td>0.5</td>\n",
       "      <td>2</td>\n",
       "    </tr>\n",
       "    <tr>\n",
       "      <th>4</th>\n",
       "      <td>Patient 5</td>\n",
       "      <td>64.0</td>\n",
       "      <td>1</td>\n",
       "      <td>1.021505</td>\n",
       "      <td>1</td>\n",
       "      <td>0.342105</td>\n",
       "      <td>0.485714</td>\n",
       "      <td>0.577778</td>\n",
       "      <td>0.15</td>\n",
       "      <td>0.133333</td>\n",
       "      <td>...</td>\n",
       "      <td>0.5</td>\n",
       "      <td>0.5</td>\n",
       "      <td>0.5</td>\n",
       "      <td>-0.86875</td>\n",
       "      <td>0.5</td>\n",
       "      <td>-0.991667</td>\n",
       "      <td>0.5</td>\n",
       "      <td>-0.992857</td>\n",
       "      <td>0.5</td>\n",
       "      <td>2</td>\n",
       "    </tr>\n",
       "    <tr>\n",
       "      <th>...</th>\n",
       "      <td>...</td>\n",
       "      <td>...</td>\n",
       "      <td>...</td>\n",
       "      <td>...</td>\n",
       "      <td>...</td>\n",
       "      <td>...</td>\n",
       "      <td>...</td>\n",
       "      <td>...</td>\n",
       "      <td>...</td>\n",
       "      <td>...</td>\n",
       "      <td>...</td>\n",
       "      <td>...</td>\n",
       "      <td>...</td>\n",
       "      <td>...</td>\n",
       "      <td>...</td>\n",
       "      <td>...</td>\n",
       "      <td>...</td>\n",
       "      <td>...</td>\n",
       "      <td>...</td>\n",
       "      <td>...</td>\n",
       "      <td>...</td>\n",
       "    </tr>\n",
       "    <tr>\n",
       "      <th>1076</th>\n",
       "      <td>Patient 1517</td>\n",
       "      <td>45.0</td>\n",
       "      <td>1</td>\n",
       "      <td>1.045699</td>\n",
       "      <td>1</td>\n",
       "      <td>0.578947</td>\n",
       "      <td>0.442857</td>\n",
       "      <td>0.394444</td>\n",
       "      <td>-0.42</td>\n",
       "      <td>-0.200000</td>\n",
       "      <td>...</td>\n",
       "      <td>0.5</td>\n",
       "      <td>0.5</td>\n",
       "      <td>0.5</td>\n",
       "      <td>-0.86875</td>\n",
       "      <td>0.5</td>\n",
       "      <td>-0.991667</td>\n",
       "      <td>0.5</td>\n",
       "      <td>-0.992857</td>\n",
       "      <td>0.5</td>\n",
       "      <td>1</td>\n",
       "    </tr>\n",
       "    <tr>\n",
       "      <th>1077</th>\n",
       "      <td>Patient 1518</td>\n",
       "      <td>66.0</td>\n",
       "      <td>1</td>\n",
       "      <td>0.983871</td>\n",
       "      <td>1</td>\n",
       "      <td>0.421053</td>\n",
       "      <td>0.628571</td>\n",
       "      <td>0.694444</td>\n",
       "      <td>-0.54</td>\n",
       "      <td>-0.333333</td>\n",
       "      <td>...</td>\n",
       "      <td>0.5</td>\n",
       "      <td>0.5</td>\n",
       "      <td>0.5</td>\n",
       "      <td>-0.86875</td>\n",
       "      <td>0.5</td>\n",
       "      <td>-0.991667</td>\n",
       "      <td>0.5</td>\n",
       "      <td>-0.992857</td>\n",
       "      <td>0.5</td>\n",
       "      <td>1</td>\n",
       "    </tr>\n",
       "    <tr>\n",
       "      <th>1078</th>\n",
       "      <td>Patient 1519</td>\n",
       "      <td>71.0</td>\n",
       "      <td>1</td>\n",
       "      <td>0.983871</td>\n",
       "      <td>1</td>\n",
       "      <td>0.605263</td>\n",
       "      <td>0.871429</td>\n",
       "      <td>0.866667</td>\n",
       "      <td>-0.65</td>\n",
       "      <td>-0.355556</td>\n",
       "      <td>...</td>\n",
       "      <td>0.5</td>\n",
       "      <td>0.5</td>\n",
       "      <td>0.5</td>\n",
       "      <td>-0.86875</td>\n",
       "      <td>0.5</td>\n",
       "      <td>-0.991667</td>\n",
       "      <td>0.5</td>\n",
       "      <td>-0.992857</td>\n",
       "      <td>0.5</td>\n",
       "      <td>1</td>\n",
       "    </tr>\n",
       "    <tr>\n",
       "      <th>1079</th>\n",
       "      <td>Patient 1520</td>\n",
       "      <td>66.0</td>\n",
       "      <td>1</td>\n",
       "      <td>0.983871</td>\n",
       "      <td>1</td>\n",
       "      <td>0.210526</td>\n",
       "      <td>0.457143</td>\n",
       "      <td>0.616667</td>\n",
       "      <td>-0.55</td>\n",
       "      <td>-0.400000</td>\n",
       "      <td>...</td>\n",
       "      <td>0.5</td>\n",
       "      <td>0.5</td>\n",
       "      <td>0.5</td>\n",
       "      <td>-0.86875</td>\n",
       "      <td>0.5</td>\n",
       "      <td>-0.991667</td>\n",
       "      <td>0.5</td>\n",
       "      <td>-0.992857</td>\n",
       "      <td>0.5</td>\n",
       "      <td>1</td>\n",
       "    </tr>\n",
       "    <tr>\n",
       "      <th>1080</th>\n",
       "      <td>Patient 1521</td>\n",
       "      <td>64.0</td>\n",
       "      <td>1</td>\n",
       "      <td>0.983871</td>\n",
       "      <td>1</td>\n",
       "      <td>0.105263</td>\n",
       "      <td>-0.928571</td>\n",
       "      <td>-1.000000</td>\n",
       "      <td>-1.11</td>\n",
       "      <td>-0.844444</td>\n",
       "      <td>...</td>\n",
       "      <td>0.5</td>\n",
       "      <td>0.5</td>\n",
       "      <td>0.5</td>\n",
       "      <td>-0.86875</td>\n",
       "      <td>0.5</td>\n",
       "      <td>-0.991667</td>\n",
       "      <td>0.5</td>\n",
       "      <td>-0.992857</td>\n",
       "      <td>0.5</td>\n",
       "      <td>1</td>\n",
       "    </tr>\n",
       "  </tbody>\n",
       "</table>\n",
       "<p>1081 rows × 129 columns</p>\n",
       "</div>"
      ],
      "text/plain": [
       "           Patient   Age  Gender  Body temperature  Underlying diseases  \\\n",
       "0        Patient 1  81.0       0          0.983871                    1   \n",
       "1        Patient 2  50.0       0          1.040323                    1   \n",
       "2        Patient 3  65.0       1          1.034946                    1   \n",
       "3        Patient 4  73.0       0          1.034946                    1   \n",
       "4        Patient 5  64.0       1          1.021505                    1   \n",
       "...            ...   ...     ...               ...                  ...   \n",
       "1076  Patient 1517  45.0       1          1.045699                    1   \n",
       "1077  Patient 1518  66.0       1          0.983871                    1   \n",
       "1078  Patient 1519  71.0       1          0.983871                    1   \n",
       "1079  Patient 1520  66.0       1          0.983871                    1   \n",
       "1080  Patient 1521  64.0       1          0.983871                    1   \n",
       "\n",
       "          MCHC       MCH       MCV   HCT       HGB  ...  LPS    U  UALB  \\\n",
       "0     0.736842  0.600000  0.483333 -0.42 -0.155556  ...  0.5  0.5   0.5   \n",
       "1     0.868421  0.642857  0.455556  0.15  0.333333  ...  0.5  0.5   0.5   \n",
       "2     0.368421  0.585714  0.677778 -0.96 -0.644444  ...  0.5  0.5   0.5   \n",
       "3     0.552632  0.528571  0.516667  0.09  0.177778  ...  0.5  0.5   0.5   \n",
       "4     0.342105  0.485714  0.577778  0.15  0.133333  ...  0.5  0.5   0.5   \n",
       "...        ...       ...       ...   ...       ...  ...  ...  ...   ...   \n",
       "1076  0.578947  0.442857  0.394444 -0.42 -0.200000  ...  0.5  0.5   0.5   \n",
       "1077  0.421053  0.628571  0.694444 -0.54 -0.333333  ...  0.5  0.5   0.5   \n",
       "1078  0.605263  0.871429  0.866667 -0.65 -0.355556  ...  0.5  0.5   0.5   \n",
       "1079  0.210526  0.457143  0.616667 -0.55 -0.400000  ...  0.5  0.5   0.5   \n",
       "1080  0.105263 -0.928571 -1.000000 -1.11 -0.844444  ...  0.5  0.5   0.5   \n",
       "\n",
       "         BCF8  ASO        PS   RF        PC  LAC  Morbidity  \n",
       "0    -0.86875  0.5 -0.991667  0.5 -0.992857  0.5          1  \n",
       "1    -0.86875  0.5 -0.991667  0.5 -0.992857  0.5          1  \n",
       "2    -0.86875  0.5 -0.991667  0.5 -0.992857  0.5          1  \n",
       "3    -0.86875  0.5 -0.991667  0.5 -0.992857  0.5          2  \n",
       "4    -0.86875  0.5 -0.991667  0.5 -0.992857  0.5          2  \n",
       "...       ...  ...       ...  ...       ...  ...        ...  \n",
       "1076 -0.86875  0.5 -0.991667  0.5 -0.992857  0.5          1  \n",
       "1077 -0.86875  0.5 -0.991667  0.5 -0.992857  0.5          1  \n",
       "1078 -0.86875  0.5 -0.991667  0.5 -0.992857  0.5          1  \n",
       "1079 -0.86875  0.5 -0.991667  0.5 -0.992857  0.5          1  \n",
       "1080 -0.86875  0.5 -0.991667  0.5 -0.992857  0.5          1  \n",
       "\n",
       "[1081 rows x 129 columns]"
      ]
     },
     "execution_count": 64,
     "metadata": {},
     "output_type": "execute_result"
    }
   ],
   "source": [
    "data_df"
   ]
  },
  {
   "cell_type": "code",
   "execution_count": 65,
   "metadata": {},
   "outputs": [],
   "source": [
    "data_df.drop([\"Patient\", \"Morbidity\"], axis=1, inplace=True)"
   ]
  },
  {
   "cell_type": "code",
   "execution_count": 66,
   "metadata": {},
   "outputs": [
    {
     "data": {
      "text/plain": [
       "(1081, 127)"
      ]
     },
     "execution_count": 66,
     "metadata": {},
     "output_type": "execute_result"
    }
   ],
   "source": [
    "data_df.shape"
   ]
  },
  {
   "cell_type": "code",
   "execution_count": 67,
   "metadata": {},
   "outputs": [],
   "source": [
    "data_df_beg = data_df.copy(deep=True)\n",
    "data_df_beg.insert(loc=0, column=\"addition\", value=[0.5 for i in range(len(data_df))])\n",
    "data_df_end = data_df.copy(deep=True)\n",
    "data_df_end[\"addition\"] = [0.5 for i in range(len(data_df))]"
   ]
  },
  {
   "cell_type": "code",
   "execution_count": 68,
   "metadata": {},
   "outputs": [],
   "source": [
    "X_beg_npy = data_df_beg.values\n",
    "X_end_npy = data_df_end.values"
   ]
  },
  {
   "cell_type": "code",
   "execution_count": 69,
   "metadata": {},
   "outputs": [],
   "source": [
    "from dnn import get_tabular_keras_dnn"
   ]
  },
  {
   "cell_type": "code",
   "execution_count": 70,
   "metadata": {},
   "outputs": [],
   "source": [
    "keras_pretrained_model = get_tabular_keras_dnn()"
   ]
  },
  {
   "cell_type": "code",
   "execution_count": 71,
   "metadata": {},
   "outputs": [
    {
     "name": "stdout",
     "output_type": "stream",
     "text": [
      "34/34 [==============================] - 0s 1ms/step\n"
     ]
    }
   ],
   "source": [
    "pred_beg = keras_pretrained_model.predict(X_beg_npy)"
   ]
  },
  {
   "cell_type": "code",
   "execution_count": 72,
   "metadata": {
    "scrolled": true
   },
   "outputs": [
    {
     "name": "stdout",
     "output_type": "stream",
     "text": [
      "34/34 [==============================] - 0s 1ms/step\n"
     ]
    }
   ],
   "source": [
    "pred_end = keras_pretrained_model.predict(X_end_npy)"
   ]
  },
  {
   "cell_type": "code",
   "execution_count": 73,
   "metadata": {},
   "outputs": [
    {
     "data": {
      "text/plain": [
       "(1081, 16)"
      ]
     },
     "execution_count": 73,
     "metadata": {},
     "output_type": "execute_result"
    }
   ],
   "source": [
    "pred_beg.shape"
   ]
  },
  {
   "cell_type": "code",
   "execution_count": 74,
   "metadata": {},
   "outputs": [
    {
     "data": {
      "text/plain": [
       "(1081, 16)"
      ]
     },
     "execution_count": 74,
     "metadata": {},
     "output_type": "execute_result"
    }
   ],
   "source": [
    "pred_end.shape"
   ]
  },
  {
   "cell_type": "code",
   "execution_count": 75,
   "metadata": {},
   "outputs": [],
   "source": [
    "np.save(\"tabular_embeddings_morbidity_beg_filtered.npy\", pred_beg)"
   ]
  },
  {
   "cell_type": "code",
   "execution_count": 76,
   "metadata": {},
   "outputs": [],
   "source": [
    "np.save(\"tabular_embeddings_morbidity_end_filtered.npy\", pred_end)"
   ]
  },
  {
   "cell_type": "code",
   "execution_count": 60,
   "metadata": {},
   "outputs": [],
   "source": [
    "## Random\n",
    "image_embed_morbidity_test = np.random.rand(1222, 10000)"
   ]
  },
  {
   "cell_type": "code",
   "execution_count": 62,
   "metadata": {},
   "outputs": [],
   "source": [
    "np.save(\"image_embeddings_morbidity_test.npy\", image_embed_morbidity_test)"
   ]
  },
  {
   "cell_type": "code",
   "execution_count": null,
   "metadata": {},
   "outputs": [],
   "source": []
  }
 ],
 "metadata": {
  "kernelspec": {
   "display_name": "aim",
   "language": "python",
   "name": "aim"
  },
  "language_info": {
   "codemirror_mode": {
    "name": "ipython",
    "version": 3
   },
   "file_extension": ".py",
   "mimetype": "text/x-python",
   "name": "python",
   "nbconvert_exporter": "python",
   "pygments_lexer": "ipython3",
   "version": "3.9.13"
  }
 },
 "nbformat": 4,
 "nbformat_minor": 4
}
