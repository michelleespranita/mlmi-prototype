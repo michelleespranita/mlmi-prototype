{
 "cells": [
  {
   "cell_type": "code",
   "execution_count": 1,
   "metadata": {},
   "outputs": [],
   "source": [
    "import pandas as pd"
   ]
  },
  {
   "cell_type": "code",
   "execution_count": 2,
   "metadata": {},
   "outputs": [],
   "source": [
    "matt_metadata_ori = pd.read_csv(\"220614_ictcf_data.csv\")"
   ]
  },
  {
   "cell_type": "code",
   "execution_count": 20,
   "metadata": {
    "scrolled": true
   },
   "outputs": [
    {
     "data": {
      "text/html": [
       "<div>\n",
       "<style scoped>\n",
       "    .dataframe tbody tr th:only-of-type {\n",
       "        vertical-align: middle;\n",
       "    }\n",
       "\n",
       "    .dataframe tbody tr th {\n",
       "        vertical-align: top;\n",
       "    }\n",
       "\n",
       "    .dataframe thead th {\n",
       "        text-align: right;\n",
       "    }\n",
       "</style>\n",
       "<table border=\"1\" class=\"dataframe\">\n",
       "  <thead>\n",
       "    <tr style=\"text-align: right;\">\n",
       "      <th></th>\n",
       "      <th>Patient</th>\n",
       "      <th>Age</th>\n",
       "      <th>Gender</th>\n",
       "      <th>Body temperature</th>\n",
       "      <th>Underlying diseases</th>\n",
       "      <th>SARS-CoV-2 nucleic acids</th>\n",
       "      <th>CT</th>\n",
       "      <th>Morbidity</th>\n",
       "      <th>Mortality</th>\n",
       "      <th>Blood test</th>\n",
       "      <th>...</th>\n",
       "      <th>ASO</th>\n",
       "      <th>LPS</th>\n",
       "      <th>UALB</th>\n",
       "      <th>RF</th>\n",
       "      <th>LAC</th>\n",
       "      <th>WBCC</th>\n",
       "      <th>Cohort</th>\n",
       "      <th>image</th>\n",
       "      <th>mask</th>\n",
       "      <th>Mobidity types</th>\n",
       "    </tr>\n",
       "  </thead>\n",
       "  <tbody>\n",
       "    <tr>\n",
       "      <th>0</th>\n",
       "      <td>Patient 1</td>\n",
       "      <td>81.0</td>\n",
       "      <td>Male</td>\n",
       "      <td>36.6</td>\n",
       "      <td>Hypertension, Thyroidectomy</td>\n",
       "      <td>Positive</td>\n",
       "      <td>Positive</td>\n",
       "      <td>Regular</td>\n",
       "      <td>Cured</td>\n",
       "      <td>Routine Blood Test</td>\n",
       "      <td>...</td>\n",
       "      <td>NaN</td>\n",
       "      <td>NaN</td>\n",
       "      <td>NaN</td>\n",
       "      <td>NaN</td>\n",
       "      <td>NaN</td>\n",
       "      <td>NaN</td>\n",
       "      <td>1</td>\n",
       "      <td>ictcf_dicom/ct_dicom/CT_DICOM1/Patient 1/CT</td>\n",
       "      <td>ictcf_dicom/lung_masks/Patient_1.npy</td>\n",
       "      <td>1</td>\n",
       "    </tr>\n",
       "    <tr>\n",
       "      <th>1</th>\n",
       "      <td>Patient 2</td>\n",
       "      <td>50.0</td>\n",
       "      <td>Male</td>\n",
       "      <td>38.7</td>\n",
       "      <td>No</td>\n",
       "      <td>Positive</td>\n",
       "      <td>Positive</td>\n",
       "      <td>Regular</td>\n",
       "      <td>Cured</td>\n",
       "      <td>Routine Blood Test</td>\n",
       "      <td>...</td>\n",
       "      <td>NaN</td>\n",
       "      <td>NaN</td>\n",
       "      <td>NaN</td>\n",
       "      <td>NaN</td>\n",
       "      <td>NaN</td>\n",
       "      <td>NaN</td>\n",
       "      <td>1</td>\n",
       "      <td>ictcf_dicom/ct_dicom/CT_DICOM1/Patient 2/CT</td>\n",
       "      <td>ictcf_dicom/lung_masks/Patient_2.npy</td>\n",
       "      <td>1</td>\n",
       "    </tr>\n",
       "    <tr>\n",
       "      <th>2</th>\n",
       "      <td>Patient 3</td>\n",
       "      <td>65.0</td>\n",
       "      <td>Female</td>\n",
       "      <td>38.5</td>\n",
       "      <td>Postoperative cervical cancer</td>\n",
       "      <td>Positive</td>\n",
       "      <td>Positive</td>\n",
       "      <td>Regular</td>\n",
       "      <td>Cured</td>\n",
       "      <td>Routine Blood Test</td>\n",
       "      <td>...</td>\n",
       "      <td>NaN</td>\n",
       "      <td>NaN</td>\n",
       "      <td>NaN</td>\n",
       "      <td>NaN</td>\n",
       "      <td>NaN</td>\n",
       "      <td>NaN</td>\n",
       "      <td>1</td>\n",
       "      <td>ictcf_dicom/ct_dicom/CT_DICOM1/Patient 3/CT</td>\n",
       "      <td>ictcf_dicom/lung_masks/Patient_3.npy</td>\n",
       "      <td>1</td>\n",
       "    </tr>\n",
       "    <tr>\n",
       "      <th>3</th>\n",
       "      <td>Patient 4</td>\n",
       "      <td>73.0</td>\n",
       "      <td>Male</td>\n",
       "      <td>38.5</td>\n",
       "      <td>Aorta calcification</td>\n",
       "      <td>Positive</td>\n",
       "      <td>Positive</td>\n",
       "      <td>Severe</td>\n",
       "      <td>Cured</td>\n",
       "      <td>Routine Blood Test</td>\n",
       "      <td>...</td>\n",
       "      <td>NaN</td>\n",
       "      <td>NaN</td>\n",
       "      <td>NaN</td>\n",
       "      <td>NaN</td>\n",
       "      <td>NaN</td>\n",
       "      <td>NaN</td>\n",
       "      <td>1</td>\n",
       "      <td>ictcf_dicom/ct_dicom/CT_DICOM1/Patient 4/CT</td>\n",
       "      <td>ictcf_dicom/lung_masks/Patient_4.npy</td>\n",
       "      <td>2</td>\n",
       "    </tr>\n",
       "    <tr>\n",
       "      <th>4</th>\n",
       "      <td>Patient 5</td>\n",
       "      <td>64.0</td>\n",
       "      <td>Female</td>\n",
       "      <td>38.0</td>\n",
       "      <td>No</td>\n",
       "      <td>Positive</td>\n",
       "      <td>Positive</td>\n",
       "      <td>Severe</td>\n",
       "      <td>Cured</td>\n",
       "      <td>Routine Blood Test</td>\n",
       "      <td>...</td>\n",
       "      <td>NaN</td>\n",
       "      <td>NaN</td>\n",
       "      <td>NaN</td>\n",
       "      <td>NaN</td>\n",
       "      <td>NaN</td>\n",
       "      <td>NaN</td>\n",
       "      <td>1</td>\n",
       "      <td>ictcf_dicom/ct_dicom/CT_DICOM1/Patient 5/CT</td>\n",
       "      <td>ictcf_dicom/lung_masks/Patient_5.npy</td>\n",
       "      <td>2</td>\n",
       "    </tr>\n",
       "    <tr>\n",
       "      <th>...</th>\n",
       "      <td>...</td>\n",
       "      <td>...</td>\n",
       "      <td>...</td>\n",
       "      <td>...</td>\n",
       "      <td>...</td>\n",
       "      <td>...</td>\n",
       "      <td>...</td>\n",
       "      <td>...</td>\n",
       "      <td>...</td>\n",
       "      <td>...</td>\n",
       "      <td>...</td>\n",
       "      <td>...</td>\n",
       "      <td>...</td>\n",
       "      <td>...</td>\n",
       "      <td>...</td>\n",
       "      <td>...</td>\n",
       "      <td>...</td>\n",
       "      <td>...</td>\n",
       "      <td>...</td>\n",
       "      <td>...</td>\n",
       "      <td>...</td>\n",
       "    </tr>\n",
       "    <tr>\n",
       "      <th>1516</th>\n",
       "      <td>Patient 1517</td>\n",
       "      <td>45.0</td>\n",
       "      <td>Female</td>\n",
       "      <td>38.9</td>\n",
       "      <td>Fatty liver, Hepatitis B</td>\n",
       "      <td>Positive</td>\n",
       "      <td>Positive</td>\n",
       "      <td>Regular</td>\n",
       "      <td>Unknown</td>\n",
       "      <td>Routine Blood Test</td>\n",
       "      <td>...</td>\n",
       "      <td>NaN</td>\n",
       "      <td>NaN</td>\n",
       "      <td>NaN</td>\n",
       "      <td>NaN</td>\n",
       "      <td>NaN</td>\n",
       "      <td>NaN</td>\n",
       "      <td>2</td>\n",
       "      <td>ictcf_dicom/ct_dicom/CT_DICOM2/Patient 1517/CT</td>\n",
       "      <td>ictcf_dicom/lung_masks/Patient_1517.npy</td>\n",
       "      <td>1</td>\n",
       "    </tr>\n",
       "    <tr>\n",
       "      <th>1517</th>\n",
       "      <td>Patient 1518</td>\n",
       "      <td>66.0</td>\n",
       "      <td>Female</td>\n",
       "      <td>36.6</td>\n",
       "      <td>No</td>\n",
       "      <td>Positive</td>\n",
       "      <td>Positive</td>\n",
       "      <td>Regular</td>\n",
       "      <td>Unknown</td>\n",
       "      <td>Routine Blood Test</td>\n",
       "      <td>...</td>\n",
       "      <td>NaN</td>\n",
       "      <td>NaN</td>\n",
       "      <td>NaN</td>\n",
       "      <td>NaN</td>\n",
       "      <td>NaN</td>\n",
       "      <td>NaN</td>\n",
       "      <td>2</td>\n",
       "      <td>ictcf_dicom/ct_dicom/CT_DICOM2/Patient 1518/CT</td>\n",
       "      <td>ictcf_dicom/lung_masks/Patient_1518.npy</td>\n",
       "      <td>1</td>\n",
       "    </tr>\n",
       "    <tr>\n",
       "      <th>1518</th>\n",
       "      <td>Patient 1519</td>\n",
       "      <td>71.0</td>\n",
       "      <td>Female</td>\n",
       "      <td>36.6</td>\n",
       "      <td>Hypertension, Atrial fibrillation</td>\n",
       "      <td>Positive</td>\n",
       "      <td>Positive</td>\n",
       "      <td>Regular</td>\n",
       "      <td>Cured</td>\n",
       "      <td>Routine Blood Test</td>\n",
       "      <td>...</td>\n",
       "      <td>NaN</td>\n",
       "      <td>NaN</td>\n",
       "      <td>NaN</td>\n",
       "      <td>NaN</td>\n",
       "      <td>NaN</td>\n",
       "      <td>NaN</td>\n",
       "      <td>2</td>\n",
       "      <td>ictcf_dicom/ct_dicom/CT_DICOM2/Patient 1519/CT</td>\n",
       "      <td>ictcf_dicom/lung_masks/Patient_1519.npy</td>\n",
       "      <td>1</td>\n",
       "    </tr>\n",
       "    <tr>\n",
       "      <th>1519</th>\n",
       "      <td>Patient 1520</td>\n",
       "      <td>66.0</td>\n",
       "      <td>Female</td>\n",
       "      <td>36.6</td>\n",
       "      <td>No</td>\n",
       "      <td>Positive</td>\n",
       "      <td>Positive</td>\n",
       "      <td>Regular</td>\n",
       "      <td>Cured</td>\n",
       "      <td>Routine Blood Test</td>\n",
       "      <td>...</td>\n",
       "      <td>NaN</td>\n",
       "      <td>NaN</td>\n",
       "      <td>NaN</td>\n",
       "      <td>NaN</td>\n",
       "      <td>NaN</td>\n",
       "      <td>NaN</td>\n",
       "      <td>2</td>\n",
       "      <td>ictcf_dicom/ct_dicom/CT_DICOM2/Patient 1520/CT</td>\n",
       "      <td>ictcf_dicom/lung_masks/Patient_1520.npy</td>\n",
       "      <td>1</td>\n",
       "    </tr>\n",
       "    <tr>\n",
       "      <th>1520</th>\n",
       "      <td>Patient 1521</td>\n",
       "      <td>64.0</td>\n",
       "      <td>Female</td>\n",
       "      <td>36.6</td>\n",
       "      <td>Hypertension, Coronary atherosclerotic heart d...</td>\n",
       "      <td>Positive</td>\n",
       "      <td>Positive</td>\n",
       "      <td>Regular</td>\n",
       "      <td>Cured</td>\n",
       "      <td>Routine Blood Test</td>\n",
       "      <td>...</td>\n",
       "      <td>NaN</td>\n",
       "      <td>NaN</td>\n",
       "      <td>NaN</td>\n",
       "      <td>NaN</td>\n",
       "      <td>NaN</td>\n",
       "      <td>NaN</td>\n",
       "      <td>2</td>\n",
       "      <td>ictcf_dicom/ct_dicom/CT_DICOM2/Patient 1521/CT</td>\n",
       "      <td>ictcf_dicom/lung_masks/Patient_1521.npy</td>\n",
       "      <td>1</td>\n",
       "    </tr>\n",
       "  </tbody>\n",
       "</table>\n",
       "<p>1521 rows × 134 columns</p>\n",
       "</div>"
      ],
      "text/plain": [
       "           Patient   Age  Gender  Body temperature  \\\n",
       "0        Patient 1  81.0    Male              36.6   \n",
       "1        Patient 2  50.0    Male              38.7   \n",
       "2        Patient 3  65.0  Female              38.5   \n",
       "3        Patient 4  73.0    Male              38.5   \n",
       "4        Patient 5  64.0  Female              38.0   \n",
       "...            ...   ...     ...               ...   \n",
       "1516  Patient 1517  45.0  Female              38.9   \n",
       "1517  Patient 1518  66.0  Female              36.6   \n",
       "1518  Patient 1519  71.0  Female              36.6   \n",
       "1519  Patient 1520  66.0  Female              36.6   \n",
       "1520  Patient 1521  64.0  Female              36.6   \n",
       "\n",
       "                                    Underlying diseases  \\\n",
       "0                           Hypertension, Thyroidectomy   \n",
       "1                                                    No   \n",
       "2                         Postoperative cervical cancer   \n",
       "3                                   Aorta calcification   \n",
       "4                                                    No   \n",
       "...                                                 ...   \n",
       "1516                           Fatty liver, Hepatitis B   \n",
       "1517                                                 No   \n",
       "1518                  Hypertension, Atrial fibrillation   \n",
       "1519                                                 No   \n",
       "1520  Hypertension, Coronary atherosclerotic heart d...   \n",
       "\n",
       "     SARS-CoV-2 nucleic acids        CT Morbidity Mortality  \\\n",
       "0                    Positive  Positive   Regular     Cured   \n",
       "1                    Positive  Positive   Regular     Cured   \n",
       "2                    Positive  Positive   Regular     Cured   \n",
       "3                    Positive  Positive    Severe     Cured   \n",
       "4                    Positive  Positive    Severe     Cured   \n",
       "...                       ...       ...       ...       ...   \n",
       "1516                 Positive  Positive   Regular   Unknown   \n",
       "1517                 Positive  Positive   Regular   Unknown   \n",
       "1518                 Positive  Positive   Regular     Cured   \n",
       "1519                 Positive  Positive   Regular     Cured   \n",
       "1520                 Positive  Positive   Regular     Cured   \n",
       "\n",
       "              Blood test  ...  ASO  LPS  UALB  RF  LAC  WBCC  Cohort  \\\n",
       "0     Routine Blood Test  ...  NaN  NaN   NaN NaN  NaN   NaN       1   \n",
       "1     Routine Blood Test  ...  NaN  NaN   NaN NaN  NaN   NaN       1   \n",
       "2     Routine Blood Test  ...  NaN  NaN   NaN NaN  NaN   NaN       1   \n",
       "3     Routine Blood Test  ...  NaN  NaN   NaN NaN  NaN   NaN       1   \n",
       "4     Routine Blood Test  ...  NaN  NaN   NaN NaN  NaN   NaN       1   \n",
       "...                  ...  ...  ...  ...   ...  ..  ...   ...     ...   \n",
       "1516  Routine Blood Test  ...  NaN  NaN   NaN NaN  NaN   NaN       2   \n",
       "1517  Routine Blood Test  ...  NaN  NaN   NaN NaN  NaN   NaN       2   \n",
       "1518  Routine Blood Test  ...  NaN  NaN   NaN NaN  NaN   NaN       2   \n",
       "1519  Routine Blood Test  ...  NaN  NaN   NaN NaN  NaN   NaN       2   \n",
       "1520  Routine Blood Test  ...  NaN  NaN   NaN NaN  NaN   NaN       2   \n",
       "\n",
       "                                               image  \\\n",
       "0        ictcf_dicom/ct_dicom/CT_DICOM1/Patient 1/CT   \n",
       "1        ictcf_dicom/ct_dicom/CT_DICOM1/Patient 2/CT   \n",
       "2        ictcf_dicom/ct_dicom/CT_DICOM1/Patient 3/CT   \n",
       "3        ictcf_dicom/ct_dicom/CT_DICOM1/Patient 4/CT   \n",
       "4        ictcf_dicom/ct_dicom/CT_DICOM1/Patient 5/CT   \n",
       "...                                              ...   \n",
       "1516  ictcf_dicom/ct_dicom/CT_DICOM2/Patient 1517/CT   \n",
       "1517  ictcf_dicom/ct_dicom/CT_DICOM2/Patient 1518/CT   \n",
       "1518  ictcf_dicom/ct_dicom/CT_DICOM2/Patient 1519/CT   \n",
       "1519  ictcf_dicom/ct_dicom/CT_DICOM2/Patient 1520/CT   \n",
       "1520  ictcf_dicom/ct_dicom/CT_DICOM2/Patient 1521/CT   \n",
       "\n",
       "                                         mask  Mobidity types  \n",
       "0        ictcf_dicom/lung_masks/Patient_1.npy               1  \n",
       "1        ictcf_dicom/lung_masks/Patient_2.npy               1  \n",
       "2        ictcf_dicom/lung_masks/Patient_3.npy               1  \n",
       "3        ictcf_dicom/lung_masks/Patient_4.npy               2  \n",
       "4        ictcf_dicom/lung_masks/Patient_5.npy               2  \n",
       "...                                       ...             ...  \n",
       "1516  ictcf_dicom/lung_masks/Patient_1517.npy               1  \n",
       "1517  ictcf_dicom/lung_masks/Patient_1518.npy               1  \n",
       "1518  ictcf_dicom/lung_masks/Patient_1519.npy               1  \n",
       "1519  ictcf_dicom/lung_masks/Patient_1520.npy               1  \n",
       "1520  ictcf_dicom/lung_masks/Patient_1521.npy               1  \n",
       "\n",
       "[1521 rows x 134 columns]"
      ]
     },
     "execution_count": 20,
     "metadata": {},
     "output_type": "execute_result"
    }
   ],
   "source": [
    "matt_metadata_ori"
   ]
  },
  {
   "cell_type": "code",
   "execution_count": 46,
   "metadata": {},
   "outputs": [
    {
     "data": {
      "text/plain": [
       "(1521, 134)"
      ]
     },
     "execution_count": 46,
     "metadata": {},
     "output_type": "execute_result"
    }
   ],
   "source": [
    "matt_metadata_ori.shape"
   ]
  },
  {
   "cell_type": "code",
   "execution_count": 23,
   "metadata": {},
   "outputs": [],
   "source": [
    "matt_features = list(matt_metadata_ori.columns[1:5]) + list(matt_metadata_ori.columns[10:-4])"
   ]
  },
  {
   "cell_type": "code",
   "execution_count": 24,
   "metadata": {
    "scrolled": true
   },
   "outputs": [
    {
     "data": {
      "text/plain": [
       "124"
      ]
     },
     "execution_count": 24,
     "metadata": {},
     "output_type": "execute_result"
    }
   ],
   "source": [
    "len(matt_features)"
   ]
  },
  {
   "cell_type": "code",
   "execution_count": 25,
   "metadata": {},
   "outputs": [],
   "source": [
    "hust19_sample_metadata = pd.read_csv(\"Normalized_Demo_Patient_324_CF.txt\", sep=\"\\t\")"
   ]
  },
  {
   "cell_type": "code",
   "execution_count": 26,
   "metadata": {},
   "outputs": [
    {
     "data": {
      "text/html": [
       "<div>\n",
       "<style scoped>\n",
       "    .dataframe tbody tr th:only-of-type {\n",
       "        vertical-align: middle;\n",
       "    }\n",
       "\n",
       "    .dataframe tbody tr th {\n",
       "        vertical-align: top;\n",
       "    }\n",
       "\n",
       "    .dataframe thead th {\n",
       "        text-align: right;\n",
       "    }\n",
       "</style>\n",
       "<table border=\"1\" class=\"dataframe\">\n",
       "  <thead>\n",
       "    <tr style=\"text-align: right;\">\n",
       "      <th></th>\n",
       "      <th>Patient</th>\n",
       "      <th>Age</th>\n",
       "      <th>Gender</th>\n",
       "      <th>Body temperature</th>\n",
       "      <th>Underlying diseases</th>\n",
       "      <th>Mean corpuscular hemoglobin concentration</th>\n",
       "      <th>Mean corpuscular hemoglobin</th>\n",
       "      <th>Mean corpuscular volume</th>\n",
       "      <th>Hematocrit</th>\n",
       "      <th>Hemoglobin</th>\n",
       "      <th>...</th>\n",
       "      <th>Fungi (1-3)-β-D-glucan</th>\n",
       "      <th>Lipase</th>\n",
       "      <th>Urea</th>\n",
       "      <th>Urinary albumin</th>\n",
       "      <th>Blood coagulation factor VIII activity</th>\n",
       "      <th>Anti-streptolysin O</th>\n",
       "      <th>Plasma protein S activity</th>\n",
       "      <th>Rheumatoid factor</th>\n",
       "      <th>Plasma protein C activity</th>\n",
       "      <th>Lactic acid</th>\n",
       "    </tr>\n",
       "  </thead>\n",
       "  <tbody>\n",
       "    <tr>\n",
       "      <th>0</th>\n",
       "      <td>Abbreviation</td>\n",
       "      <td>NaN</td>\n",
       "      <td>F/M</td>\n",
       "      <td>°C</td>\n",
       "      <td>Udis</td>\n",
       "      <td>MCHC</td>\n",
       "      <td>MCH</td>\n",
       "      <td>MCV</td>\n",
       "      <td>HCT</td>\n",
       "      <td>HGB</td>\n",
       "      <td>...</td>\n",
       "      <td>FDG</td>\n",
       "      <td>LPS</td>\n",
       "      <td>U</td>\n",
       "      <td>UALB</td>\n",
       "      <td>BCF8</td>\n",
       "      <td>ASO</td>\n",
       "      <td>PS</td>\n",
       "      <td>RF</td>\n",
       "      <td>PC</td>\n",
       "      <td>LAC</td>\n",
       "    </tr>\n",
       "    <tr>\n",
       "      <th>1</th>\n",
       "      <td>Normal range</td>\n",
       "      <td>NaN</td>\n",
       "      <td>F/M</td>\n",
       "      <td>≤37.2°C</td>\n",
       "      <td>No</td>\n",
       "      <td>316-354 g/L</td>\n",
       "      <td>27-34 pg</td>\n",
       "      <td>82-100 fl</td>\n",
       "      <td>40-50 %</td>\n",
       "      <td>130-175 g/L</td>\n",
       "      <td>...</td>\n",
       "      <td>&lt;100.5 pg/ml</td>\n",
       "      <td>13.00-60.00 U/L</td>\n",
       "      <td>3.1-8.80 mmol/L</td>\n",
       "      <td>0-20 mg/L</td>\n",
       "      <td>70.0-150.0 %</td>\n",
       "      <td>0-200.00 IU/ml</td>\n",
       "      <td>60.00-120.00 %</td>\n",
       "      <td>0-30.00 IU/ml</td>\n",
       "      <td>70.00-140.00 %</td>\n",
       "      <td>1.33-1.78 mmol/L</td>\n",
       "    </tr>\n",
       "    <tr>\n",
       "      <th>2</th>\n",
       "      <td>Patient 324</td>\n",
       "      <td>34.0</td>\n",
       "      <td>1</td>\n",
       "      <td>1.029569892473118</td>\n",
       "      <td>0</td>\n",
       "      <td>0.0</td>\n",
       "      <td>-0.27142857142857124</td>\n",
       "      <td>-0.14444444444444413</td>\n",
       "      <td>-0.8100000000000002</td>\n",
       "      <td>-0.6444444444444445</td>\n",
       "      <td>...</td>\n",
       "      <td>0.5</td>\n",
       "      <td>0.5</td>\n",
       "      <td>0.5</td>\n",
       "      <td>0.5</td>\n",
       "      <td>0.5</td>\n",
       "      <td>0.5</td>\n",
       "      <td>0.5</td>\n",
       "      <td>0.5</td>\n",
       "      <td>0.5</td>\n",
       "      <td>0.5</td>\n",
       "    </tr>\n",
       "  </tbody>\n",
       "</table>\n",
       "<p>3 rows × 128 columns</p>\n",
       "</div>"
      ],
      "text/plain": [
       "        Patient   Age Gender   Body temperature Underlying diseases  \\\n",
       "0  Abbreviation   NaN    F/M                 °C                Udis   \n",
       "1  Normal range   NaN    F/M            ≤37.2°C                  No   \n",
       "2   Patient 324  34.0      1  1.029569892473118                   0   \n",
       "\n",
       "  Mean corpuscular hemoglobin concentration Mean corpuscular hemoglobin  \\\n",
       "0                                      MCHC                         MCH   \n",
       "1                               316-354 g/L                    27-34 pg   \n",
       "2                                       0.0        -0.27142857142857124   \n",
       "\n",
       "  Mean corpuscular volume           Hematocrit           Hemoglobin  ...  \\\n",
       "0                     MCV                  HCT                  HGB  ...   \n",
       "1               82-100 fl              40-50 %          130-175 g/L  ...   \n",
       "2    -0.14444444444444413  -0.8100000000000002  -0.6444444444444445  ...   \n",
       "\n",
       "  Fungi (1-3)-β-D-glucan           Lipase             Urea Urinary albumin  \\\n",
       "0                    FDG              LPS                U            UALB   \n",
       "1           <100.5 pg/ml  13.00-60.00 U/L  3.1-8.80 mmol/L       0-20 mg/L   \n",
       "2                    0.5              0.5              0.5             0.5   \n",
       "\n",
       "  Blood coagulation factor VIII activity Anti-streptolysin O  \\\n",
       "0                                   BCF8                 ASO   \n",
       "1                           70.0-150.0 %      0-200.00 IU/ml   \n",
       "2                                    0.5                 0.5   \n",
       "\n",
       "  Plasma protein S activity Rheumatoid factor Plasma protein C activity  \\\n",
       "0                        PS                RF                        PC   \n",
       "1            60.00-120.00 %     0-30.00 IU/ml            70.00-140.00 %   \n",
       "2                       0.5               0.5                       0.5   \n",
       "\n",
       "        Lactic acid  \n",
       "0               LAC  \n",
       "1  1.33-1.78 mmol/L  \n",
       "2               0.5  \n",
       "\n",
       "[3 rows x 128 columns]"
      ]
     },
     "execution_count": 26,
     "metadata": {},
     "output_type": "execute_result"
    }
   ],
   "source": [
    "hust19_sample_metadata"
   ]
  },
  {
   "cell_type": "code",
   "execution_count": 39,
   "metadata": {},
   "outputs": [],
   "source": [
    "hust19_features = list(hust19_sample_metadata.columns[1:5]) + list(hust19_sample_metadata.iloc[0, 5:])"
   ]
  },
  {
   "cell_type": "code",
   "execution_count": 40,
   "metadata": {},
   "outputs": [
    {
     "data": {
      "text/plain": [
       "127"
      ]
     },
     "execution_count": 40,
     "metadata": {},
     "output_type": "execute_result"
    }
   ],
   "source": [
    "len(hust19_features)"
   ]
  },
  {
   "cell_type": "code",
   "execution_count": 41,
   "metadata": {},
   "outputs": [
    {
     "data": {
      "text/plain": [
       "{'AT3'}"
      ]
     },
     "execution_count": 41,
     "metadata": {},
     "output_type": "execute_result"
    }
   ],
   "source": [
    "set(matt_features) - set(hust19_features)"
   ]
  },
  {
   "cell_type": "code",
   "execution_count": 42,
   "metadata": {},
   "outputs": [
    {
     "data": {
      "text/plain": [
       "{'AT-III', 'BCF8', 'PC', 'PS'}"
      ]
     },
     "execution_count": 42,
     "metadata": {},
     "output_type": "execute_result"
    }
   ],
   "source": [
    "set(hust19_features) - set(matt_features)\n",
    "# matt_metadata dropped 3 features: BCF8, PC, PS -> Why?\n",
    "# Can we retrieve it back?"
   ]
  },
  {
   "cell_type": "code",
   "execution_count": 58,
   "metadata": {},
   "outputs": [],
   "source": [
    "# Are there any columns in matt_metadata that are filled with NaNs in all rows?\n",
    "for k, v in matt_metadata.isnull().all().to_dict().items():\n",
    "    if v == True:\n",
    "        print(k)\n",
    "# Nope!"
   ]
  },
  {
   "cell_type": "code",
   "execution_count": 77,
   "metadata": {
    "scrolled": false
   },
   "outputs": [
    {
     "name": "stdout",
     "output_type": "stream",
     "text": [
      "Name: Platelet distribution width -- Abbrev: PDW\n",
      "Name: Plateletcrit -- Abbrev: PLCT\n",
      "Name: Platelet larger cell ratio -- Abbrev: PLCR\n",
      "Name: 5'nucleotidase -- Abbrev: 5NT\n",
      "Name: Choline esterase -- Abbrev: CHE\n",
      "Name: Sialic acid -- Abbrev: SA\n",
      "Name: Complement C1q -- Abbrev: C1q\n",
      "Name: Complement C3 -- Abbrev: C3\n",
      "Name: α-L-Fucosidase -- Abbrev: AFU\n",
      "Name: Lipoprotein A -- Abbrev: LPA\n",
      "Name: Apolipoprotein A1 -- Abbrev: APOA1\n",
      "Name: B-type brain natriuretic peptide precursor -- Abbrev: BNP\n",
      "Name: Immunoglobulin M -- Abbrev: IGM\n",
      "Name: Immunoglobulin A -- Abbrev: IGA\n",
      "Name: Immunoglobulin G -- Abbrev: IGG\n",
      "Name: Fibrin/fibrinogen degradation products -- Abbrev: FDP\n",
      "Name: Complement C4 -- Abbrev: C4\n",
      "Name: Apolipoprotein B -- Abbrev: APOB\n",
      "Name: High-sensitivity C-reactive protein -- Abbrev: HSCRP\n",
      "Name: Red blood cell count -- Abbrev: URBC\n",
      "Name: White blood cell count -- Abbrev: UWBC\n",
      "Name: Leukocyte mass -- Abbrev: WBCC\n",
      "Name: Squamous epithelial cell -- Abbrev: SQEP\n",
      "Name: Non-squamous epithelial cell -- Abbrev: NSEC\n",
      "Name: Hyaline cast -- Abbrev: HYAL\n",
      "Name: Pathological cast -- Abbrev: UNCC\n",
      "Name: Yeast -- Abbrev: BYST\n",
      "Name: Viscose rayon -- Abbrev: MS-U\n",
      "Name: Unclassified crystal -- Abbrev: UNCX\n",
      "Name: Specific gravity -- Abbrev: SG\n",
      "Name: pH -- Abbrev: PH\n",
      "Name: Bacterial count -- Abbrev: BACT\n",
      "Name: Indirect bilirubin -- Abbrev: IBIL\n",
      "Name: Antithrombin III -- Abbrev: AT-III\n",
      "Name: Fungi (1-3)-β-D-glucan -- Abbrev: FDG\n",
      "Name: Lipase -- Abbrev: LPS\n",
      "Name: Urea -- Abbrev: U\n",
      "Name: Urinary albumin -- Abbrev: UALB\n",
      "Name: Blood coagulation factor VIII activity -- Abbrev: BCF8\n",
      "Name: Anti-streptolysin O -- Abbrev: ASO\n",
      "Name: Plasma protein S activity -- Abbrev: PS\n",
      "Name: Rheumatoid factor -- Abbrev: RF\n",
      "Name: Plasma protein C activity -- Abbrev: PC\n",
      "Name: Lactic acid -- Abbrev: LAC\n"
     ]
    }
   ],
   "source": [
    "# Which columns are filled with 0.5 in hust19_sample_metadata?\n",
    "unk_cols = []\n",
    "abbrevs = list(hust19_sample_metadata.iloc[0])\n",
    "for i, (k, v) in enumerate(hust19_sample_metadata.iloc[2].to_dict().items()):\n",
    "    if v == '0.5':\n",
    "        print(\"Name:\", k, \"-- Abbrev:\", abbrevs[i])\n",
    "        unk_cols.append(abbrevs[i])"
   ]
  },
  {
   "cell_type": "code",
   "execution_count": 84,
   "metadata": {},
   "outputs": [
    {
     "data": {
      "text/plain": [
       "44"
      ]
     },
     "execution_count": 84,
     "metadata": {},
     "output_type": "execute_result"
    }
   ],
   "source": [
    "len(unk_cols)"
   ]
  },
  {
   "cell_type": "code",
   "execution_count": 78,
   "metadata": {
    "scrolled": false
   },
   "outputs": [
    {
     "name": "stdout",
     "output_type": "stream",
     "text": [
      "FDP\n",
      "AT3\n",
      "BNP\n",
      "IBIL\n",
      "FDG\n",
      "U\n",
      "HSCRP\n",
      "URBC\n",
      "NSEC\n",
      "UNCX\n",
      "CHE\n",
      "SA\n",
      "AFU\n",
      "LPA\n",
      "APOA1\n",
      "APOB\n",
      "C1q\n",
      "UWBC\n",
      "SQEP\n",
      "MS-U\n",
      "SG\n",
      "PH\n",
      "HYAL\n",
      "UNCC\n",
      "BACT\n",
      "C3\n",
      "IGM\n",
      "IGA\n",
      "IGG\n",
      "C4\n",
      "BYST\n",
      "ASO\n",
      "LPS\n",
      "UALB\n",
      "RF\n",
      "LAC\n",
      "WBCC\n"
     ]
    }
   ],
   "source": [
    "### How many columns in matt_metadata are mostly filled with NaNs?\n",
    "nan_cols = []\n",
    "for i, (k,v) in enumerate(matt_metadata.iloc[0].isna().to_dict().items()):\n",
    "    if v == True:\n",
    "        print(k)\n",
    "        nan_cols.append(k)"
   ]
  },
  {
   "cell_type": "code",
   "execution_count": 85,
   "metadata": {},
   "outputs": [
    {
     "data": {
      "text/plain": [
       "37"
      ]
     },
     "execution_count": 85,
     "metadata": {},
     "output_type": "execute_result"
    }
   ],
   "source": [
    "len(nan_cols)"
   ]
  },
  {
   "cell_type": "code",
   "execution_count": 79,
   "metadata": {},
   "outputs": [
    {
     "data": {
      "text/plain": [
       "{'5NT', 'AT-III', 'BCF8', 'PC', 'PDW', 'PLCR', 'PLCT', 'PS'}"
      ]
     },
     "execution_count": 79,
     "metadata": {},
     "output_type": "execute_result"
    }
   ],
   "source": [
    "set(unk_cols) - set(nan_cols)"
   ]
  },
  {
   "cell_type": "code",
   "execution_count": 80,
   "metadata": {},
   "outputs": [
    {
     "data": {
      "text/plain": [
       "{'AT3'}"
      ]
     },
     "execution_count": 80,
     "metadata": {},
     "output_type": "execute_result"
    }
   ],
   "source": [
    "set(nan_cols) - set(unk_cols)"
   ]
  },
  {
   "cell_type": "code",
   "execution_count": 83,
   "metadata": {
    "scrolled": true
   },
   "outputs": [
    {
     "data": {
      "text/plain": [
       "36"
      ]
     },
     "execution_count": 83,
     "metadata": {},
     "output_type": "execute_result"
    }
   ],
   "source": [
    "len(set(unk_cols).intersection(set(nan_cols)))"
   ]
  },
  {
   "cell_type": "markdown",
   "metadata": {},
   "source": [
    "## Preprocess matt_metadata_ori"
   ]
  },
  {
   "cell_type": "code",
   "execution_count": null,
   "metadata": {},
   "outputs": [],
   "source": [
    "matt_metadata = matt"
   ]
  }
 ],
 "metadata": {
  "kernelspec": {
   "display_name": "aim",
   "language": "python",
   "name": "aim"
  },
  "language_info": {
   "codemirror_mode": {
    "name": "ipython",
    "version": 3
   },
   "file_extension": ".py",
   "mimetype": "text/x-python",
   "name": "python",
   "nbconvert_exporter": "python",
   "pygments_lexer": "ipython3",
   "version": "3.9.13"
  }
 },
 "nbformat": 4,
 "nbformat_minor": 4
}
