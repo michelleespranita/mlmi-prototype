{
 "cells": [
  {
   "cell_type": "code",
   "execution_count": 15,
   "metadata": {},
   "outputs": [
    {
     "name": "stdout",
     "output_type": "stream",
     "text": [
      "The autoreload extension is already loaded. To reload it, use:\n",
      "  %reload_ext autoreload\n"
     ]
    }
   ],
   "source": [
    "%load_ext autoreload\n",
    "%autoreload 2"
   ]
  },
  {
   "cell_type": "code",
   "execution_count": 16,
   "metadata": {},
   "outputs": [],
   "source": [
    "import torch\n",
    "from torch.utils.data import DataLoader, ConcatDataset, SubsetRandomSampler\n",
    "from sklearn.model_selection import StratifiedKFold, KFold\n",
    "import numpy as np\n",
    "\n",
    "from dataset import ImageTableDataset\n",
    "from model import MultimodalModel\n",
    "from train import train"
   ]
  },
  {
   "cell_type": "code",
   "execution_count": 17,
   "metadata": {
    "scrolled": true
   },
   "outputs": [
    {
     "name": "stdout",
     "output_type": "stream",
     "text": [
      "Loading datasets...\n"
     ]
    }
   ],
   "source": [
    "# ----- Dataset -----\n",
    "print(\"Loading datasets...\")\n",
    "\n",
    "batch_size = 2\n",
    "\n",
    "train_dataset = ImageTableDataset(\"train_morbidity\")\n",
    "# train_dataloader = DataLoader(train_dataset, batch_size=batch_size, shuffle=True)\n",
    "\n",
    "val_dataset = ImageTableDataset(\"val_morbidity\")\n",
    "# val_dataloader = DataLoader(val_dataset, batch_size=batch_size, shuffle=True)\n",
    "\n",
    "dataset = ConcatDataset([train_dataset, val_dataset])\n",
    "labels = [dataset[i]['label'] for i in range(len(dataset))]\n",
    "\n",
    "k = 2\n",
    "splits = StratifiedKFold(n_splits=k, shuffle=True, random_state=42)"
   ]
  },
  {
   "cell_type": "code",
   "execution_count": 18,
   "metadata": {},
   "outputs": [
    {
     "data": {
      "text/plain": [
       "1222"
      ]
     },
     "execution_count": 18,
     "metadata": {},
     "output_type": "execute_result"
    }
   ],
   "source": [
    "len(dataset)"
   ]
  },
  {
   "cell_type": "code",
   "execution_count": 19,
   "metadata": {},
   "outputs": [],
   "source": [
    "labels = [dataset[i]['label'] for i in range(len(dataset))]"
   ]
  },
  {
   "cell_type": "code",
   "execution_count": 21,
   "metadata": {},
   "outputs": [],
   "source": [
    "# labels"
   ]
  },
  {
   "cell_type": "code",
   "execution_count": 8,
   "metadata": {},
   "outputs": [
    {
     "data": {
      "text/plain": [
       "<generator object _BaseKFold.split at 0x156534c10>"
      ]
     },
     "execution_count": 8,
     "metadata": {},
     "output_type": "execute_result"
    }
   ],
   "source": [
    "splits.split(dataset, labels)"
   ]
  },
  {
   "cell_type": "code",
   "execution_count": 22,
   "metadata": {},
   "outputs": [
    {
     "name": "stdout",
     "output_type": "stream",
     "text": [
      "Start training...\n"
     ]
    }
   ],
   "source": [
    "# ----- Training -----\n",
    "print(\"Start training...\")\n",
    "device = torch.device('cuda:0') if torch.cuda.is_available() else torch.device('cpu')\n",
    "config = {\n",
    "    \"learning_rate\": 0.001,\n",
    "    \"max_epochs\": 50,\n",
    "    \"print_every_n\": 10,\n",
    "    \"validate_every_n\": 10,\n",
    "    \"experiment_name\": \"baseline\"\n",
    "}"
   ]
  },
  {
   "cell_type": "code",
   "execution_count": 7,
   "metadata": {},
   "outputs": [
    {
     "name": "stdout",
     "output_type": "stream",
     "text": [
      "Creating model...\n"
     ]
    },
    {
     "name": "stderr",
     "output_type": "stream",
     "text": [
      "2022-12-19 14:41:23.800525: I tensorflow/core/platform/cpu_feature_guard.cc:193] This TensorFlow binary is optimized with oneAPI Deep Neural Network Library (oneDNN) to use the following CPU instructions in performance-critical operations:  AVX2 AVX512F AVX512_VNNI FMA\n",
      "To enable them in other operations, rebuild TensorFlow with the appropriate compiler flags.\n"
     ]
    }
   ],
   "source": [
    "# ----- Model -----\n",
    "print(\"Creating model...\")\n",
    "dd"
   ]
  },
  {
   "cell_type": "code",
   "execution_count": 27,
   "metadata": {},
   "outputs": [],
   "source": [
    " model = MultimodalModel()"
   ]
  },
  {
   "cell_type": "code",
   "execution_count": 44,
   "metadata": {
    "scrolled": true
   },
   "outputs": [
    {
     "name": "stdout",
     "output_type": "stream",
     "text": [
      "Fold 1\n",
      "[000/00009] train_loss: 1.091\n",
      "predicted label tensor([1, 1])\n",
      "predicted label tensor([1, 1])\n",
      "predicted label tensor([1, 1])\n",
      "predicted label tensor([1, 1])\n",
      "predicted label tensor([1, 1])\n",
      "predicted label tensor([1, 1])\n",
      "predicted label tensor([1, 1])\n",
      "predicted label tensor([1, 1])\n",
      "predicted label tensor([1, 1])\n",
      "predicted label tensor([1, 1])\n",
      "predicted label tensor([1, 1])\n",
      "predicted label tensor([1, 1])\n",
      "predicted label tensor([1, 1])\n",
      "predicted label tensor([1, 1])\n",
      "predicted label tensor([1, 1])\n",
      "predicted label tensor([1, 1])\n",
      "predicted label tensor([1, 1])\n",
      "predicted label tensor([1, 1])\n",
      "predicted label tensor([1, 1])\n",
      "predicted label tensor([1, 1])\n",
      "predicted label tensor([1, 1])\n",
      "predicted label tensor([1, 1])\n",
      "predicted label tensor([1, 1])\n",
      "predicted label tensor([1, 1])\n",
      "predicted label tensor([1, 1])\n",
      "predicted label tensor([1, 1])\n",
      "predicted label tensor([1, 1])\n",
      "predicted label tensor([1, 1])\n",
      "predicted label tensor([1, 1])\n",
      "predicted label tensor([1, 1])\n",
      "predicted label tensor([1, 1])\n",
      "predicted label tensor([1, 1])\n",
      "predicted label tensor([1, 1])\n",
      "predicted label tensor([1, 1])\n",
      "predicted label tensor([1, 1])\n",
      "predicted label tensor([1, 1])\n",
      "predicted label tensor([1, 1])\n",
      "predicted label tensor([1, 1])\n",
      "predicted label tensor([1, 1])\n",
      "predicted label tensor([1, 1])\n",
      "predicted label tensor([1, 1])\n",
      "predicted label tensor([1, 1])\n",
      "predicted label tensor([1, 1])\n",
      "predicted label tensor([1, 1])\n",
      "predicted label tensor([1, 1])\n",
      "predicted label tensor([1, 1])\n",
      "predicted label tensor([1, 1])\n",
      "predicted label tensor([1, 1])\n",
      "predicted label tensor([1, 1])\n",
      "predicted label tensor([1, 1])\n",
      "predicted label tensor([1, 1])\n",
      "predicted label tensor([1, 1])\n",
      "predicted label tensor([1, 1])\n",
      "predicted label tensor([1, 1])\n",
      "predicted label tensor([1, 1])\n",
      "predicted label tensor([1, 1])\n",
      "predicted label tensor([1, 1])\n",
      "predicted label tensor([1, 1])\n",
      "predicted label tensor([1, 1])\n",
      "predicted label tensor([1, 1])\n",
      "predicted label tensor([1, 1])\n",
      "predicted label tensor([1, 1])\n",
      "predicted label tensor([1, 1])\n",
      "predicted label tensor([1, 1])\n",
      "predicted label tensor([1, 1])\n",
      "predicted label tensor([1, 1])\n",
      "predicted label tensor([1, 1])\n",
      "predicted label tensor([1, 1])\n",
      "predicted label tensor([1, 1])\n",
      "predicted label tensor([1, 1])\n",
      "predicted label tensor([1, 1])\n",
      "predicted label tensor([1, 1])\n",
      "predicted label tensor([1, 1])\n",
      "predicted label tensor([1, 1])\n",
      "predicted label tensor([1, 1])\n",
      "predicted label tensor([1, 1])\n",
      "predicted label tensor([1, 1])\n",
      "predicted label tensor([1, 1])\n",
      "predicted label tensor([1, 1])\n",
      "predicted label tensor([1, 1])\n",
      "predicted label tensor([1, 1])\n",
      "predicted label tensor([1, 1])\n",
      "predicted label tensor([1, 1])\n",
      "predicted label tensor([1, 1])\n",
      "predicted label tensor([1, 1])\n",
      "predicted label tensor([1, 1])\n",
      "predicted label tensor([1, 1])\n",
      "predicted label tensor([1, 1])\n",
      "predicted label tensor([1, 1])\n",
      "predicted label tensor([1, 1])\n",
      "predicted label tensor([1, 1])\n",
      "predicted label tensor([1, 1])\n",
      "predicted label tensor([1, 1])\n",
      "predicted label tensor([1, 1])\n",
      "predicted label tensor([1, 1])\n",
      "predicted label tensor([1, 1])\n",
      "predicted label tensor([1, 1])\n",
      "predicted label tensor([1, 1])\n",
      "predicted label tensor([1, 1])\n",
      "predicted label tensor([1, 1])\n",
      "predicted label tensor([1, 1])\n",
      "predicted label tensor([1, 1])\n",
      "predicted label tensor([1, 1])\n",
      "predicted label tensor([1, 1])\n",
      "predicted label tensor([1, 1])\n",
      "predicted label tensor([1, 1])\n",
      "predicted label tensor([1, 1])\n",
      "predicted label tensor([1, 1])\n",
      "predicted label tensor([1, 1])\n",
      "predicted label tensor([1, 1])\n",
      "predicted label tensor([1, 1])\n",
      "predicted label tensor([1, 1])\n",
      "predicted label tensor([1, 1])\n",
      "predicted label tensor([1, 1])\n",
      "predicted label tensor([1, 1])\n",
      "predicted label tensor([1, 1])\n",
      "predicted label tensor([1, 1])\n",
      "predicted label tensor([1, 1])\n",
      "predicted label tensor([1, 1])\n",
      "predicted label tensor([1, 1])\n",
      "predicted label tensor([1, 1])\n",
      "predicted label tensor([1, 1])\n",
      "predicted label tensor([1, 1])\n",
      "predicted label tensor([1, 1])\n",
      "predicted label tensor([1, 1])\n",
      "predicted label tensor([1, 1])\n",
      "predicted label tensor([1, 1])\n",
      "predicted label tensor([1, 1])\n",
      "predicted label tensor([1, 1])\n",
      "predicted label tensor([1, 1])\n",
      "predicted label tensor([1, 1])\n",
      "predicted label tensor([1, 1])\n",
      "predicted label tensor([1, 1])\n",
      "predicted label tensor([1, 1])\n",
      "predicted label tensor([1, 1])\n",
      "predicted label tensor([1, 1])\n",
      "predicted label tensor([1, 1])\n",
      "predicted label tensor([1, 1])\n",
      "predicted label tensor([1, 1])\n",
      "predicted label tensor([1, 1])\n",
      "predicted label tensor([1, 1])\n",
      "predicted label tensor([1, 1])\n",
      "predicted label tensor([1, 1])\n",
      "predicted label tensor([1, 1])\n",
      "predicted label tensor([1, 1])\n",
      "predicted label tensor([1, 1])\n",
      "predicted label tensor([1, 1])\n",
      "predicted label tensor([1, 1])\n",
      "predicted label tensor([1, 1])\n",
      "predicted label tensor([1, 1])\n",
      "predicted label tensor([1, 1])\n",
      "predicted label tensor([1, 1])\n",
      "predicted label tensor([1, 1])\n",
      "predicted label tensor([1, 1])\n",
      "predicted label tensor([1, 1])\n",
      "predicted label tensor([1, 1])\n",
      "predicted label tensor([1, 1])\n",
      "predicted label tensor([1, 1])\n",
      "predicted label tensor([1, 1])\n",
      "predicted label tensor([1, 1])\n",
      "predicted label tensor([1, 1])\n",
      "predicted label tensor([1, 1])\n",
      "predicted label tensor([1, 1])\n",
      "predicted label tensor([1, 1])\n",
      "predicted label tensor([1, 1])\n",
      "predicted label tensor([1, 1])\n",
      "predicted label tensor([1, 1])\n",
      "predicted label tensor([1, 1])\n",
      "predicted label tensor([1, 1])\n",
      "predicted label tensor([1, 1])\n",
      "predicted label tensor([1, 1])\n",
      "predicted label tensor([1, 1])\n",
      "predicted label tensor([1, 1])\n",
      "predicted label tensor([1, 1])\n",
      "predicted label tensor([1, 1])\n",
      "predicted label tensor([1, 1])\n",
      "predicted label tensor([1, 1])\n",
      "predicted label tensor([1, 1])\n",
      "predicted label tensor([1, 1])\n",
      "predicted label tensor([1, 1])\n",
      "predicted label tensor([1, 1])\n",
      "predicted label tensor([1, 1])\n",
      "predicted label tensor([1, 1])\n",
      "predicted label tensor([1, 1])\n",
      "predicted label tensor([1, 1])\n",
      "predicted label tensor([1, 1])\n",
      "predicted label tensor([1, 1])\n",
      "predicted label tensor([1, 1])\n",
      "predicted label tensor([1, 1])\n",
      "predicted label tensor([1, 1])\n",
      "predicted label tensor([1, 1])\n",
      "predicted label tensor([1, 1])\n",
      "predicted label tensor([1, 1])\n",
      "predicted label tensor([1, 1])\n",
      "predicted label tensor([1, 1])\n",
      "predicted label tensor([1, 1])\n",
      "predicted label tensor([1, 1])\n",
      "predicted label tensor([1, 1])\n",
      "predicted label tensor([1, 1])\n",
      "predicted label tensor([1, 1])\n",
      "predicted label tensor([1, 1])\n",
      "predicted label tensor([1, 1])\n",
      "predicted label tensor([1, 1])\n",
      "predicted label tensor([1, 1])\n",
      "predicted label tensor([1, 1])\n",
      "predicted label tensor([1, 1])\n",
      "predicted label tensor([1, 1])\n",
      "predicted label tensor([1, 1])\n",
      "predicted label tensor([1, 1])\n",
      "predicted label tensor([1, 1])\n",
      "predicted label tensor([1, 1])\n",
      "predicted label tensor([1, 1])\n",
      "predicted label tensor([1, 1])\n",
      "predicted label tensor([1, 1])\n",
      "predicted label tensor([1, 1])\n",
      "predicted label tensor([1, 1])\n",
      "predicted label tensor([1, 1])\n",
      "predicted label tensor([1, 1])\n",
      "predicted label tensor([1, 1])\n",
      "predicted label tensor([1, 1])\n",
      "predicted label tensor([1, 1])\n",
      "predicted label tensor([1, 1])\n",
      "predicted label tensor([1, 1])\n",
      "predicted label tensor([1, 1])\n",
      "predicted label tensor([1, 1])\n",
      "predicted label tensor([1, 1])\n",
      "predicted label tensor([1, 1])\n",
      "predicted label tensor([1, 1])\n",
      "predicted label tensor([1, 1])\n",
      "predicted label tensor([1, 1])\n",
      "predicted label tensor([1, 1])\n",
      "predicted label tensor([1, 1])\n",
      "predicted label tensor([1, 1])\n",
      "predicted label tensor([1, 1])\n",
      "predicted label tensor([1, 1])\n",
      "predicted label tensor([1, 1])\n",
      "predicted label tensor([1, 1])\n",
      "predicted label tensor([1, 1])\n",
      "predicted label tensor([1, 1])\n",
      "predicted label tensor([1, 1])\n",
      "predicted label tensor([1, 1])\n",
      "predicted label tensor([1, 1])\n",
      "predicted label tensor([1, 1])\n",
      "predicted label tensor([1, 1])\n",
      "predicted label tensor([1, 1])\n",
      "predicted label tensor([1, 1])\n",
      "predicted label tensor([1, 1])\n",
      "predicted label tensor([1, 1])\n",
      "predicted label tensor([1, 1])\n",
      "predicted label tensor([1, 1])\n",
      "predicted label tensor([1, 1])\n",
      "predicted label tensor([1, 1])\n",
      "predicted label tensor([1, 1])\n",
      "predicted label tensor([1, 1])\n",
      "predicted label tensor([1, 1])\n",
      "predicted label tensor([1, 1])\n",
      "predicted label tensor([1, 1])\n",
      "predicted label tensor([1, 1])\n",
      "predicted label tensor([1, 1])\n",
      "predicted label tensor([1, 1])\n",
      "predicted label tensor([1, 1])\n",
      "predicted label tensor([1, 1])\n",
      "predicted label tensor([1, 1])\n",
      "predicted label tensor([1, 1])\n",
      "predicted label tensor([1, 1])\n",
      "predicted label tensor([1, 1])\n",
      "predicted label tensor([1, 1])\n",
      "predicted label tensor([1, 1])\n",
      "predicted label tensor([1, 1])\n",
      "predicted label tensor([1, 1])\n",
      "predicted label tensor([1, 1])\n",
      "predicted label tensor([1, 1])\n",
      "predicted label tensor([1, 1])\n",
      "predicted label tensor([1, 1])\n",
      "predicted label tensor([1, 1])\n",
      "predicted label tensor([1, 1])\n",
      "predicted label tensor([1, 1])\n",
      "predicted label tensor([1, 1])\n",
      "predicted label tensor([1, 1])\n",
      "predicted label tensor([1, 1])\n"
     ]
    },
    {
     "name": "stdout",
     "output_type": "stream",
     "text": [
      "predicted label tensor([1, 1])\n",
      "predicted label tensor([1, 1])\n",
      "predicted label tensor([1, 1])\n",
      "predicted label tensor([1, 1])\n",
      "predicted label tensor([1, 1])\n",
      "predicted label tensor([1, 1])\n",
      "predicted label tensor([1, 1])\n",
      "predicted label tensor([1, 1])\n",
      "predicted label tensor([1, 1])\n",
      "predicted label tensor([1, 1])\n",
      "predicted label tensor([1, 1])\n",
      "predicted label tensor([1, 1])\n",
      "predicted label tensor([1, 1])\n",
      "predicted label tensor([1, 1])\n",
      "predicted label tensor([1, 1])\n",
      "predicted label tensor([1, 1])\n",
      "predicted label tensor([1, 1])\n",
      "predicted label tensor([1, 1])\n",
      "predicted label tensor([1, 1])\n",
      "predicted label tensor([1, 1])\n",
      "predicted label tensor([1, 1])\n",
      "predicted label tensor([1, 1])\n",
      "predicted label tensor([1, 1])\n",
      "predicted label tensor([1, 1])\n",
      "predicted label tensor([1, 1])\n",
      "predicted label tensor([1])\n"
     ]
    },
    {
     "ename": "ValueError",
     "evalue": "multi_class must be in ('ovo', 'ovr')",
     "output_type": "error",
     "traceback": [
      "\u001b[0;31m---------------------------------------------------------------------------\u001b[0m",
      "\u001b[0;31mValueError\u001b[0m                                Traceback (most recent call last)",
      "\u001b[0;32m/var/folders/cy/nvtp62xj7_188hvgxm3r35hm0000gn/T/ipykernel_7839/3887531081.py\u001b[0m in \u001b[0;36m<cell line: 2>\u001b[0;34m()\u001b[0m\n\u001b[1;32m     10\u001b[0m     \u001b[0mmodel\u001b[0m \u001b[0;34m=\u001b[0m \u001b[0mMultimodalModel\u001b[0m\u001b[0;34m(\u001b[0m\u001b[0;34m)\u001b[0m\u001b[0;34m\u001b[0m\u001b[0;34m\u001b[0m\u001b[0m\n\u001b[1;32m     11\u001b[0m \u001b[0;34m\u001b[0m\u001b[0m\n\u001b[0;32m---> 12\u001b[0;31m     \u001b[0mhistory\u001b[0m \u001b[0;34m=\u001b[0m \u001b[0mtrain\u001b[0m\u001b[0;34m(\u001b[0m\u001b[0mmodel\u001b[0m\u001b[0;34m,\u001b[0m \u001b[0mtrain_dataloader\u001b[0m\u001b[0;34m,\u001b[0m \u001b[0mval_dataloader\u001b[0m\u001b[0;34m,\u001b[0m \u001b[0mdevice\u001b[0m\u001b[0;34m,\u001b[0m \u001b[0mconfig\u001b[0m\u001b[0;34m)\u001b[0m\u001b[0;34m\u001b[0m\u001b[0;34m\u001b[0m\u001b[0m\n\u001b[0m\u001b[1;32m     13\u001b[0m     \u001b[0mresults\u001b[0m\u001b[0;34m[\u001b[0m\u001b[0;34m\"val_acc\"\u001b[0m\u001b[0;34m]\u001b[0m\u001b[0;34m.\u001b[0m\u001b[0mappend\u001b[0m\u001b[0;34m(\u001b[0m\u001b[0mhistory\u001b[0m\u001b[0;34m[\u001b[0m\u001b[0;34m\"val_acc\"\u001b[0m\u001b[0;34m]\u001b[0m\u001b[0;34m)\u001b[0m\u001b[0;34m\u001b[0m\u001b[0;34m\u001b[0m\u001b[0m\n\u001b[1;32m     14\u001b[0m     \u001b[0mresults\u001b[0m\u001b[0;34m[\u001b[0m\u001b[0;34m\"val_auc\"\u001b[0m\u001b[0;34m]\u001b[0m\u001b[0;34m.\u001b[0m\u001b[0mappend\u001b[0m\u001b[0;34m(\u001b[0m\u001b[0mhistory\u001b[0m\u001b[0;34m[\u001b[0m\u001b[0;34m\"val_auc\"\u001b[0m\u001b[0;34m]\u001b[0m\u001b[0;34m)\u001b[0m\u001b[0;34m\u001b[0m\u001b[0;34m\u001b[0m\u001b[0m\n",
      "\u001b[0;32m~/Documents/Sem3/MLMI/Notebooks/mlmi-prototype/train.py\u001b[0m in \u001b[0;36mtrain\u001b[0;34m(model, train_dataloader, val_dataloader, device, config)\u001b[0m\n\u001b[1;32m     63\u001b[0m                 \u001b[0;31m# Calculate metrics\u001b[0m\u001b[0;34m\u001b[0m\u001b[0;34m\u001b[0m\u001b[0m\n\u001b[1;32m     64\u001b[0m                 \u001b[0maccuracy\u001b[0m \u001b[0;34m=\u001b[0m \u001b[0;36m100\u001b[0m \u001b[0;34m*\u001b[0m \u001b[0mcorrect\u001b[0m \u001b[0;34m/\u001b[0m \u001b[0mtotal\u001b[0m\u001b[0;34m\u001b[0m\u001b[0;34m\u001b[0m\u001b[0m\n\u001b[0;32m---> 65\u001b[0;31m                 \u001b[0mroc_auc\u001b[0m \u001b[0;34m=\u001b[0m \u001b[0mroc_auc_score\u001b[0m\u001b[0;34m(\u001b[0m\u001b[0mtorch\u001b[0m\u001b[0;34m.\u001b[0m\u001b[0mcat\u001b[0m\u001b[0;34m(\u001b[0m\u001b[0mval_gt_labels\u001b[0m\u001b[0;34m)\u001b[0m\u001b[0;34m,\u001b[0m \u001b[0mtorch\u001b[0m\u001b[0;34m.\u001b[0m\u001b[0mcat\u001b[0m\u001b[0;34m(\u001b[0m\u001b[0mval_pred_labels\u001b[0m\u001b[0;34m)\u001b[0m\u001b[0;34m)\u001b[0m\u001b[0;34m\u001b[0m\u001b[0;34m\u001b[0m\u001b[0m\n\u001b[0m\u001b[1;32m     66\u001b[0m                 \u001b[0mtn\u001b[0m\u001b[0;34m,\u001b[0m \u001b[0mfp\u001b[0m\u001b[0;34m,\u001b[0m \u001b[0mfn\u001b[0m\u001b[0;34m,\u001b[0m \u001b[0mtp\u001b[0m \u001b[0;34m=\u001b[0m \u001b[0mconfusion_matrix\u001b[0m\u001b[0;34m(\u001b[0m\u001b[0mtorch\u001b[0m\u001b[0;34m.\u001b[0m\u001b[0mcat\u001b[0m\u001b[0;34m(\u001b[0m\u001b[0mval_gt_labels\u001b[0m\u001b[0;34m)\u001b[0m\u001b[0;34m,\u001b[0m \u001b[0mtorch\u001b[0m\u001b[0;34m.\u001b[0m\u001b[0mcat\u001b[0m\u001b[0;34m(\u001b[0m\u001b[0mval_pred_labels\u001b[0m\u001b[0;34m)\u001b[0m\u001b[0;34m)\u001b[0m\u001b[0;34m.\u001b[0m\u001b[0mravel\u001b[0m\u001b[0;34m(\u001b[0m\u001b[0;34m)\u001b[0m\u001b[0;34m\u001b[0m\u001b[0;34m\u001b[0m\u001b[0m\n\u001b[1;32m     67\u001b[0m                 \u001b[0msn\u001b[0m \u001b[0;34m=\u001b[0m \u001b[0mtp\u001b[0m \u001b[0;34m/\u001b[0m \u001b[0;34m(\u001b[0m\u001b[0mtp\u001b[0m \u001b[0;34m+\u001b[0m \u001b[0mfn\u001b[0m\u001b[0;34m)\u001b[0m\u001b[0;34m\u001b[0m\u001b[0;34m\u001b[0m\u001b[0m\n",
      "\u001b[0;32m~/opt/anaconda3/envs/aim/lib/python3.9/site-packages/sklearn/metrics/_ranking.py\u001b[0m in \u001b[0;36mroc_auc_score\u001b[0;34m(y_true, y_score, average, sample_weight, max_fpr, multi_class, labels)\u001b[0m\n\u001b[1;32m    558\u001b[0m             )\n\u001b[1;32m    559\u001b[0m         \u001b[0;32mif\u001b[0m \u001b[0mmulti_class\u001b[0m \u001b[0;34m==\u001b[0m \u001b[0;34m\"raise\"\u001b[0m\u001b[0;34m:\u001b[0m\u001b[0;34m\u001b[0m\u001b[0;34m\u001b[0m\u001b[0m\n\u001b[0;32m--> 560\u001b[0;31m             \u001b[0;32mraise\u001b[0m \u001b[0mValueError\u001b[0m\u001b[0;34m(\u001b[0m\u001b[0;34m\"multi_class must be in ('ovo', 'ovr')\"\u001b[0m\u001b[0;34m)\u001b[0m\u001b[0;34m\u001b[0m\u001b[0;34m\u001b[0m\u001b[0m\n\u001b[0m\u001b[1;32m    561\u001b[0m         return _multiclass_roc_auc_score(\n\u001b[1;32m    562\u001b[0m             \u001b[0my_true\u001b[0m\u001b[0;34m,\u001b[0m \u001b[0my_score\u001b[0m\u001b[0;34m,\u001b[0m \u001b[0mlabels\u001b[0m\u001b[0;34m,\u001b[0m \u001b[0mmulti_class\u001b[0m\u001b[0;34m,\u001b[0m \u001b[0maverage\u001b[0m\u001b[0;34m,\u001b[0m \u001b[0msample_weight\u001b[0m\u001b[0;34m\u001b[0m\u001b[0;34m\u001b[0m\u001b[0m\n",
      "\u001b[0;31mValueError\u001b[0m: multi_class must be in ('ovo', 'ovr')"
     ]
    }
   ],
   "source": [
    "results = {\"val_acc\": [], \"val_auc\": []}\n",
    "for fold, (train_idx, val_idx) in enumerate(splits.split(dataset, labels)):\n",
    "    print('Fold {}'.format(fold + 1))\n",
    "    \n",
    "    train_sampler = SubsetRandomSampler(train_idx)\n",
    "    val_sampler = SubsetRandomSampler(val_idx)\n",
    "    train_dataloader = DataLoader(dataset, batch_size=batch_size, sampler=train_sampler)\n",
    "    val_dataloader = DataLoader(dataset, batch_size=batch_size, sampler=val_sampler)\n",
    "    \n",
    "    model = MultimodalModel()\n",
    "\n",
    "    history = train(model, train_dataloader, val_dataloader, device, config)\n",
    "    results[\"val_acc\"].append(history[\"val_acc\"])\n",
    "    results[\"val_auc\"].append(history[\"val_auc\"])\n",
    "#     results[\"val_sn\"].append(history[\"val_sn\"])\n",
    "#     results[\"val_sp\"].append(history[\"val_sp\"])\n",
    "#     results[\"val_ppv\"].append(history[\"val_ppv\"])\n",
    "#     results[\"val_npv\"].append(history[\"val_npv\"])\n",
    "#     results[\"val_mcc\"].append(history[\"val_mcc\"])\n",
    "\n",
    "print(\"Validation accuracy:\", torch.mean(torch.Tensor(results[\"val_acc\"])).item())\n",
    "print(\"Validation AUC:\", torch.mean(torch.Tensor(results[\"val_auc\"])).item())\n",
    "# print(\"Validation SN (Recall):\", torch.mean(results[\"val_sn\"]).item())\n",
    "# print(\"Validation SP (Specificity):\", torch.mean(results[\"val_sp\"]).item())\n",
    "# print(\"Validation PPV:\", torch.mean(results[\"val_ppv\"]).item())\n",
    "# print(\"Validation NPV:\", torch.mean(results[\"val_npv\"]).item())\n",
    "# print(\"Validation MCC:\", torch.mean(results[\"val_mcc\"]).item())"
   ]
  },
  {
   "cell_type": "code",
   "execution_count": 35,
   "metadata": {},
   "outputs": [],
   "source": [
    "import torch.nn as nn"
   ]
  },
  {
   "cell_type": "code",
   "execution_count": 36,
   "metadata": {},
   "outputs": [],
   "source": [
    "# Example of target with class indices\n",
    "loss = nn.CrossEntropyLoss()\n",
    "input = torch.randn(3, 5, requires_grad=True)\n",
    "target = torch.empty(3, dtype=torch.long).random_(5)\n",
    "output = loss(input, target)"
   ]
  },
  {
   "cell_type": "code",
   "execution_count": 39,
   "metadata": {
    "scrolled": true
   },
   "outputs": [
    {
     "data": {
      "text/plain": [
       "torch.Size([3, 5])"
      ]
     },
     "execution_count": 39,
     "metadata": {},
     "output_type": "execute_result"
    }
   ],
   "source": [
    "input.shape"
   ]
  },
  {
   "cell_type": "code",
   "execution_count": 40,
   "metadata": {},
   "outputs": [
    {
     "data": {
      "text/plain": [
       "torch.Size([3])"
      ]
     },
     "execution_count": 40,
     "metadata": {},
     "output_type": "execute_result"
    }
   ],
   "source": [
    "target.shape"
   ]
  },
  {
   "cell_type": "code",
   "execution_count": null,
   "metadata": {},
   "outputs": [],
   "source": [
    "output.backward()\n",
    "# Example of target with class probabilities\n",
    "input = torch.randn(3, 5, requires_grad=True)\n",
    "target = torch.randn(3, 5).softmax(dim=1)\n",
    "output = loss(input, target)\n",
    "output.backward()"
   ]
  }
 ],
 "metadata": {
  "kernelspec": {
   "display_name": "aim",
   "language": "python",
   "name": "aim"
  },
  "language_info": {
   "codemirror_mode": {
    "name": "ipython",
    "version": 3
   },
   "file_extension": ".py",
   "mimetype": "text/x-python",
   "name": "python",
   "nbconvert_exporter": "python",
   "pygments_lexer": "ipython3",
   "version": "3.9.13"
  }
 },
 "nbformat": 4,
 "nbformat_minor": 4
}
